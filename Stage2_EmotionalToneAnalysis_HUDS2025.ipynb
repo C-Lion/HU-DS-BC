{
  "nbformat": 4,
  "nbformat_minor": 0,
  "metadata": {
    "colab": {
      "provenance": [],
      "authorship_tag": "ABX9TyPZCynsvk8LWd9Hm57GimV4",
      "include_colab_link": true
    },
    "kernelspec": {
      "name": "python3",
      "display_name": "Python 3"
    },
    "language_info": {
      "name": "python"
    }
  },
  "cells": [
    {
      "cell_type": "markdown",
      "metadata": {
        "id": "view-in-github",
        "colab_type": "text"
      },
      "source": [
        "<a href=\"https://colab.research.google.com/github/C-Lion/HU-DS-BC/blob/main/Stage2_EmotionalToneAnalysis_HUDS2025.ipynb\" target=\"_parent\"><img src=\"https://colab.research.google.com/assets/colab-badge.svg\" alt=\"Open In Colab\"/></a>"
      ]
    },
    {
      "cell_type": "markdown",
      "source": [
        "# Project Scope and Limitations\n",
        "\n",
        "This analysis originally sought to determine whether the emotional tone of songs (as measured by valence and energy) changed significantly after the murder of George Floyd on May 25, 2020.\n",
        "\n",
        "However, after inspecting the dataset, it became clear that:\n",
        "\n",
        "- The majority of `release_date` values were missing or invalid.\n",
        "- The valid dates in the dataset ranged from 1921 to 2017.\n",
        "- No data was available for the year 2020 or later, making it impossible to compare song emotional tone before and after the target date.\n",
        "\n",
        "As a result, the dataset could not support the intended research question. Nevertheless, this process demonstrated the importance of verifying data coverage early in the analysis workflow. The notebook includes all verification steps to transparently document the limitations encountered.\n"
      ],
      "metadata": {
        "id": "0FHsLtaMt-cw"
      }
    },
    {
      "cell_type": "markdown",
      "source": [
        "# Research Question\n",
        "Did the emotional tone of songs (as measured by valence and energy) released in the months before and after George Floyd’s death on May 25, 2020, show a significant shift?\n",
        "\n"
      ],
      "metadata": {
        "id": "TspcJknvgKPQ"
      }
    },
    {
      "cell_type": "markdown",
      "source": [
        "# Problem Statement\n",
        "Music has long served as a mirror of collective emotion, especially during periods of social upheaval. The murder of George Floyd on May 25, 2020, and the subsequent protests marked a significant national trauma. This analysis explores whether the emotional tone of songs—measured using Spotify's valence and energy features—changed in the months following this event.\n",
        "\n",
        "Hypothesis: Songs released after May 25, 2020, will have lower average valence and energy than those released before.\n"
      ],
      "metadata": {
        "id": "EyTEd4huhvw8"
      }
    },
    {
      "cell_type": "markdown",
      "source": [
        "# Refined Research Question\n",
        "Did the emotional tone of songs—as measured by valence and energy—change significantly after the murder of George Floyd on May 25, 2020? How might these changes reflect emotional and social responses in popular music?\n"
      ],
      "metadata": {
        "id": "MX5pOf9HjRvk"
      }
    },
    {
      "cell_type": "markdown",
      "source": [
        "#Setting up the environent for the data project in Python.\n"
      ],
      "metadata": {
        "id": "L_tIiKIkb4U3"
      }
    },
    {
      "cell_type": "markdown",
      "source": [],
      "metadata": {
        "id": "CDhdTwgWgJug"
      }
    },
    {
      "cell_type": "code",
      "source": [
        "pip install pip"
      ],
      "metadata": {
        "colab": {
          "base_uri": "https://localhost:8080/"
        },
        "id": "ZAgQCDp-bwV7",
        "outputId": "fa64176f-f94b-4092-bfaf-d7e5dbdfb861"
      },
      "execution_count": 20,
      "outputs": [
        {
          "output_type": "stream",
          "name": "stdout",
          "text": [
            "Requirement already satisfied: pip in /usr/local/lib/python3.11/dist-packages (24.1.2)\n"
          ]
        }
      ]
    },
    {
      "cell_type": "code",
      "source": [
        "pip install --upgrade pip\n"
      ],
      "metadata": {
        "colab": {
          "base_uri": "https://localhost:8080/"
        },
        "id": "GB9-ATi8cAls",
        "outputId": "c0a2af94-8a0d-4837-afc5-66d848e58cf5"
      },
      "execution_count": 21,
      "outputs": [
        {
          "output_type": "stream",
          "name": "stdout",
          "text": [
            "Requirement already satisfied: pip in /usr/local/lib/python3.11/dist-packages (24.1.2)\n",
            "Collecting pip\n",
            "  Downloading pip-25.1.1-py3-none-any.whl.metadata (3.6 kB)\n",
            "Downloading pip-25.1.1-py3-none-any.whl (1.8 MB)\n",
            "\u001b[2K   \u001b[90m━━━━━━━━━━━━━━━━━━━━━━━━━━━━━━━━━━━━━━━━\u001b[0m \u001b[32m1.8/1.8 MB\u001b[0m \u001b[31m16.9 MB/s\u001b[0m eta \u001b[36m0:00:00\u001b[0m\n",
            "\u001b[?25hInstalling collected packages: pip\n",
            "  Attempting uninstall: pip\n",
            "    Found existing installation: pip 24.1.2\n",
            "    Uninstalling pip-24.1.2:\n",
            "      Successfully uninstalled pip-24.1.2\n",
            "Successfully installed pip-25.1.1\n"
          ]
        }
      ]
    },
    {
      "cell_type": "markdown",
      "source": [
        "# Set up Numerical Python and Data Structures:"
      ],
      "metadata": {
        "id": "eQXg5dF8ciPY"
      }
    },
    {
      "cell_type": "code",
      "source": [
        "pip install numpy\n"
      ],
      "metadata": {
        "colab": {
          "base_uri": "https://localhost:8080/"
        },
        "id": "Zn7zkzEkcD8o",
        "outputId": "5c69987e-199d-4e78-9cf1-164782f58512"
      },
      "execution_count": 22,
      "outputs": [
        {
          "output_type": "stream",
          "name": "stdout",
          "text": [
            "Requirement already satisfied: numpy in /usr/local/lib/python3.11/dist-packages (2.0.2)\n"
          ]
        }
      ]
    },
    {
      "cell_type": "code",
      "source": [
        "pip install pandas"
      ],
      "metadata": {
        "colab": {
          "base_uri": "https://localhost:8080/"
        },
        "id": "ypWHjVbdcw7k",
        "outputId": "c9862367-f9a7-47a5-d52c-12c786f6fb32"
      },
      "execution_count": 23,
      "outputs": [
        {
          "output_type": "stream",
          "name": "stdout",
          "text": [
            "Requirement already satisfied: pandas in /usr/local/lib/python3.11/dist-packages (2.2.2)\n",
            "Requirement already satisfied: numpy>=1.23.2 in /usr/local/lib/python3.11/dist-packages (from pandas) (2.0.2)\n",
            "Requirement already satisfied: python-dateutil>=2.8.2 in /usr/local/lib/python3.11/dist-packages (from pandas) (2.9.0.post0)\n",
            "Requirement already satisfied: pytz>=2020.1 in /usr/local/lib/python3.11/dist-packages (from pandas) (2025.2)\n",
            "Requirement already satisfied: tzdata>=2022.7 in /usr/local/lib/python3.11/dist-packages (from pandas) (2025.2)\n",
            "Requirement already satisfied: six>=1.5 in /usr/local/lib/python3.11/dist-packages (from python-dateutil>=2.8.2->pandas) (1.17.0)\n"
          ]
        }
      ]
    },
    {
      "cell_type": "markdown",
      "source": [
        "# Set up Visualization Libraries"
      ],
      "metadata": {
        "id": "samoCYKJc2xX"
      }
    },
    {
      "cell_type": "code",
      "source": [
        "pip install matplotlib\n"
      ],
      "metadata": {
        "colab": {
          "base_uri": "https://localhost:8080/"
        },
        "collapsed": true,
        "id": "SP-5lWH9cy3j",
        "outputId": "06427446-4565-4941-f8ca-9fe63a1e9fc0"
      },
      "execution_count": 24,
      "outputs": [
        {
          "output_type": "stream",
          "name": "stdout",
          "text": [
            "Requirement already satisfied: matplotlib in /usr/local/lib/python3.11/dist-packages (3.10.0)\n",
            "Requirement already satisfied: contourpy>=1.0.1 in /usr/local/lib/python3.11/dist-packages (from matplotlib) (1.3.2)\n",
            "Requirement already satisfied: cycler>=0.10 in /usr/local/lib/python3.11/dist-packages (from matplotlib) (0.12.1)\n",
            "Requirement already satisfied: fonttools>=4.22.0 in /usr/local/lib/python3.11/dist-packages (from matplotlib) (4.58.4)\n",
            "Requirement already satisfied: kiwisolver>=1.3.1 in /usr/local/lib/python3.11/dist-packages (from matplotlib) (1.4.8)\n",
            "Requirement already satisfied: numpy>=1.23 in /usr/local/lib/python3.11/dist-packages (from matplotlib) (2.0.2)\n",
            "Requirement already satisfied: packaging>=20.0 in /usr/local/lib/python3.11/dist-packages (from matplotlib) (24.2)\n",
            "Requirement already satisfied: pillow>=8 in /usr/local/lib/python3.11/dist-packages (from matplotlib) (11.2.1)\n",
            "Requirement already satisfied: pyparsing>=2.3.1 in /usr/local/lib/python3.11/dist-packages (from matplotlib) (3.2.3)\n",
            "Requirement already satisfied: python-dateutil>=2.7 in /usr/local/lib/python3.11/dist-packages (from matplotlib) (2.9.0.post0)\n",
            "Requirement already satisfied: six>=1.5 in /usr/local/lib/python3.11/dist-packages (from python-dateutil>=2.7->matplotlib) (1.17.0)\n"
          ]
        }
      ]
    },
    {
      "cell_type": "code",
      "source": [
        "pip install seaborn"
      ],
      "metadata": {
        "colab": {
          "base_uri": "https://localhost:8080/"
        },
        "id": "V1FUv-uSdK1q",
        "outputId": "8d74b8a6-5f1c-4b97-f487-bc79b9d95467"
      },
      "execution_count": 25,
      "outputs": [
        {
          "output_type": "stream",
          "name": "stdout",
          "text": [
            "Requirement already satisfied: seaborn in /usr/local/lib/python3.11/dist-packages (0.13.2)\n",
            "Requirement already satisfied: numpy!=1.24.0,>=1.20 in /usr/local/lib/python3.11/dist-packages (from seaborn) (2.0.2)\n",
            "Requirement already satisfied: pandas>=1.2 in /usr/local/lib/python3.11/dist-packages (from seaborn) (2.2.2)\n",
            "Requirement already satisfied: matplotlib!=3.6.1,>=3.4 in /usr/local/lib/python3.11/dist-packages (from seaborn) (3.10.0)\n",
            "Requirement already satisfied: contourpy>=1.0.1 in /usr/local/lib/python3.11/dist-packages (from matplotlib!=3.6.1,>=3.4->seaborn) (1.3.2)\n",
            "Requirement already satisfied: cycler>=0.10 in /usr/local/lib/python3.11/dist-packages (from matplotlib!=3.6.1,>=3.4->seaborn) (0.12.1)\n",
            "Requirement already satisfied: fonttools>=4.22.0 in /usr/local/lib/python3.11/dist-packages (from matplotlib!=3.6.1,>=3.4->seaborn) (4.58.4)\n",
            "Requirement already satisfied: kiwisolver>=1.3.1 in /usr/local/lib/python3.11/dist-packages (from matplotlib!=3.6.1,>=3.4->seaborn) (1.4.8)\n",
            "Requirement already satisfied: packaging>=20.0 in /usr/local/lib/python3.11/dist-packages (from matplotlib!=3.6.1,>=3.4->seaborn) (24.2)\n",
            "Requirement already satisfied: pillow>=8 in /usr/local/lib/python3.11/dist-packages (from matplotlib!=3.6.1,>=3.4->seaborn) (11.2.1)\n",
            "Requirement already satisfied: pyparsing>=2.3.1 in /usr/local/lib/python3.11/dist-packages (from matplotlib!=3.6.1,>=3.4->seaborn) (3.2.3)\n",
            "Requirement already satisfied: python-dateutil>=2.7 in /usr/local/lib/python3.11/dist-packages (from matplotlib!=3.6.1,>=3.4->seaborn) (2.9.0.post0)\n",
            "Requirement already satisfied: pytz>=2020.1 in /usr/local/lib/python3.11/dist-packages (from pandas>=1.2->seaborn) (2025.2)\n",
            "Requirement already satisfied: tzdata>=2022.7 in /usr/local/lib/python3.11/dist-packages (from pandas>=1.2->seaborn) (2025.2)\n",
            "Requirement already satisfied: six>=1.5 in /usr/local/lib/python3.11/dist-packages (from python-dateutil>=2.7->matplotlib!=3.6.1,>=3.4->seaborn) (1.17.0)\n"
          ]
        }
      ]
    },
    {
      "cell_type": "markdown",
      "source": [
        "##Geospatail Visualization tools"
      ],
      "metadata": {
        "id": "iSUWfyf44B_q"
      }
    },
    {
      "cell_type": "code",
      "source": [
        "pip install folium"
      ],
      "metadata": {
        "colab": {
          "base_uri": "https://localhost:8080/"
        },
        "id": "C6lESEQ93uvc",
        "outputId": "5edaebff-f922-4b93-af45-4497922698cc"
      },
      "execution_count": 26,
      "outputs": [
        {
          "output_type": "stream",
          "name": "stdout",
          "text": [
            "Requirement already satisfied: folium in /usr/local/lib/python3.11/dist-packages (0.19.7)\n",
            "Requirement already satisfied: branca>=0.6.0 in /usr/local/lib/python3.11/dist-packages (from folium) (0.8.1)\n",
            "Requirement already satisfied: jinja2>=2.9 in /usr/local/lib/python3.11/dist-packages (from folium) (3.1.6)\n",
            "Requirement already satisfied: numpy in /usr/local/lib/python3.11/dist-packages (from folium) (2.0.2)\n",
            "Requirement already satisfied: requests in /usr/local/lib/python3.11/dist-packages (from folium) (2.32.3)\n",
            "Requirement already satisfied: xyzservices in /usr/local/lib/python3.11/dist-packages (from folium) (2025.4.0)\n",
            "Requirement already satisfied: MarkupSafe>=2.0 in /usr/local/lib/python3.11/dist-packages (from jinja2>=2.9->folium) (3.0.2)\n",
            "Requirement already satisfied: charset-normalizer<4,>=2 in /usr/local/lib/python3.11/dist-packages (from requests->folium) (3.4.2)\n",
            "Requirement already satisfied: idna<4,>=2.5 in /usr/local/lib/python3.11/dist-packages (from requests->folium) (3.10)\n",
            "Requirement already satisfied: urllib3<3,>=1.21.1 in /usr/local/lib/python3.11/dist-packages (from requests->folium) (2.4.0)\n",
            "Requirement already satisfied: certifi>=2017.4.17 in /usr/local/lib/python3.11/dist-packages (from requests->folium) (2025.6.15)\n"
          ]
        }
      ]
    },
    {
      "cell_type": "code",
      "source": [
        "pip install geopandas"
      ],
      "metadata": {
        "colab": {
          "base_uri": "https://localhost:8080/"
        },
        "id": "ImTpqXu74LiR",
        "outputId": "d164471e-1ac2-483b-b57f-446f831ae92f"
      },
      "execution_count": 27,
      "outputs": [
        {
          "output_type": "stream",
          "name": "stdout",
          "text": [
            "Requirement already satisfied: geopandas in /usr/local/lib/python3.11/dist-packages (1.0.1)\n",
            "Requirement already satisfied: numpy>=1.22 in /usr/local/lib/python3.11/dist-packages (from geopandas) (2.0.2)\n",
            "Requirement already satisfied: pyogrio>=0.7.2 in /usr/local/lib/python3.11/dist-packages (from geopandas) (0.11.0)\n",
            "Requirement already satisfied: packaging in /usr/local/lib/python3.11/dist-packages (from geopandas) (24.2)\n",
            "Requirement already satisfied: pandas>=1.4.0 in /usr/local/lib/python3.11/dist-packages (from geopandas) (2.2.2)\n",
            "Requirement already satisfied: pyproj>=3.3.0 in /usr/local/lib/python3.11/dist-packages (from geopandas) (3.7.1)\n",
            "Requirement already satisfied: shapely>=2.0.0 in /usr/local/lib/python3.11/dist-packages (from geopandas) (2.1.1)\n",
            "Requirement already satisfied: python-dateutil>=2.8.2 in /usr/local/lib/python3.11/dist-packages (from pandas>=1.4.0->geopandas) (2.9.0.post0)\n",
            "Requirement already satisfied: pytz>=2020.1 in /usr/local/lib/python3.11/dist-packages (from pandas>=1.4.0->geopandas) (2025.2)\n",
            "Requirement already satisfied: tzdata>=2022.7 in /usr/local/lib/python3.11/dist-packages (from pandas>=1.4.0->geopandas) (2025.2)\n",
            "Requirement already satisfied: certifi in /usr/local/lib/python3.11/dist-packages (from pyogrio>=0.7.2->geopandas) (2025.6.15)\n",
            "Requirement already satisfied: six>=1.5 in /usr/local/lib/python3.11/dist-packages (from python-dateutil>=2.8.2->pandas>=1.4.0->geopandas) (1.17.0)\n"
          ]
        }
      ]
    },
    {
      "cell_type": "markdown",
      "source": [
        "#Set up Scientific Python"
      ],
      "metadata": {
        "id": "I7GNby0NdSKm"
      }
    },
    {
      "cell_type": "code",
      "source": [
        "pip install scipy"
      ],
      "metadata": {
        "colab": {
          "base_uri": "https://localhost:8080/"
        },
        "id": "5u5qpKRDdPdW",
        "outputId": "9d31fe00-7a9e-48cd-ef39-f555b452335b"
      },
      "execution_count": 28,
      "outputs": [
        {
          "output_type": "stream",
          "name": "stdout",
          "text": [
            "Requirement already satisfied: scipy in /usr/local/lib/python3.11/dist-packages (1.15.3)\n",
            "Requirement already satisfied: numpy<2.5,>=1.23.5 in /usr/local/lib/python3.11/dist-packages (from scipy) (2.0.2)\n"
          ]
        }
      ]
    },
    {
      "cell_type": "code",
      "source": [
        "pip install statsmodels"
      ],
      "metadata": {
        "colab": {
          "base_uri": "https://localhost:8080/"
        },
        "id": "e52ThHLc4hxw",
        "outputId": "a4e99451-8554-4a7d-b09e-72c213dc087d"
      },
      "execution_count": 29,
      "outputs": [
        {
          "output_type": "stream",
          "name": "stdout",
          "text": [
            "Requirement already satisfied: statsmodels in /usr/local/lib/python3.11/dist-packages (0.14.4)\n",
            "Requirement already satisfied: numpy<3,>=1.22.3 in /usr/local/lib/python3.11/dist-packages (from statsmodels) (2.0.2)\n",
            "Requirement already satisfied: scipy!=1.9.2,>=1.8 in /usr/local/lib/python3.11/dist-packages (from statsmodels) (1.15.3)\n",
            "Requirement already satisfied: pandas!=2.1.0,>=1.4 in /usr/local/lib/python3.11/dist-packages (from statsmodels) (2.2.2)\n",
            "Requirement already satisfied: patsy>=0.5.6 in /usr/local/lib/python3.11/dist-packages (from statsmodels) (1.0.1)\n",
            "Requirement already satisfied: packaging>=21.3 in /usr/local/lib/python3.11/dist-packages (from statsmodels) (24.2)\n",
            "Requirement already satisfied: python-dateutil>=2.8.2 in /usr/local/lib/python3.11/dist-packages (from pandas!=2.1.0,>=1.4->statsmodels) (2.9.0.post0)\n",
            "Requirement already satisfied: pytz>=2020.1 in /usr/local/lib/python3.11/dist-packages (from pandas!=2.1.0,>=1.4->statsmodels) (2025.2)\n",
            "Requirement already satisfied: tzdata>=2022.7 in /usr/local/lib/python3.11/dist-packages (from pandas!=2.1.0,>=1.4->statsmodels) (2025.2)\n",
            "Requirement already satisfied: six>=1.5 in /usr/local/lib/python3.11/dist-packages (from python-dateutil>=2.8.2->pandas!=2.1.0,>=1.4->statsmodels) (1.17.0)\n"
          ]
        }
      ]
    },
    {
      "cell_type": "code",
      "source": [
        "pip install -U scikit-learn"
      ],
      "metadata": {
        "colab": {
          "base_uri": "https://localhost:8080/"
        },
        "id": "1QrTwZtUdb1u",
        "outputId": "b32014e8-7d1a-456f-aee3-81b8c5aed84f"
      },
      "execution_count": 30,
      "outputs": [
        {
          "output_type": "stream",
          "name": "stdout",
          "text": [
            "Requirement already satisfied: scikit-learn in /usr/local/lib/python3.11/dist-packages (1.6.1)\n",
            "Collecting scikit-learn\n",
            "  Downloading scikit_learn-1.7.0-cp311-cp311-manylinux_2_17_x86_64.manylinux2014_x86_64.whl.metadata (17 kB)\n",
            "Requirement already satisfied: numpy>=1.22.0 in /usr/local/lib/python3.11/dist-packages (from scikit-learn) (2.0.2)\n",
            "Requirement already satisfied: scipy>=1.8.0 in /usr/local/lib/python3.11/dist-packages (from scikit-learn) (1.15.3)\n",
            "Requirement already satisfied: joblib>=1.2.0 in /usr/local/lib/python3.11/dist-packages (from scikit-learn) (1.5.1)\n",
            "Requirement already satisfied: threadpoolctl>=3.1.0 in /usr/local/lib/python3.11/dist-packages (from scikit-learn) (3.6.0)\n",
            "Downloading scikit_learn-1.7.0-cp311-cp311-manylinux_2_17_x86_64.manylinux2014_x86_64.whl (12.9 MB)\n",
            "\u001b[2K   \u001b[90m━━━━━━━━━━━━━━━━━━━━━━━━━━━━━━━━━━━━━━━━\u001b[0m \u001b[32m12.9/12.9 MB\u001b[0m \u001b[31m99.3 MB/s\u001b[0m eta \u001b[36m0:00:00\u001b[0m\n",
            "\u001b[?25hInstalling collected packages: scikit-learn\n",
            "  Attempting uninstall: scikit-learn\n",
            "    Found existing installation: scikit-learn 1.6.1\n",
            "    Uninstalling scikit-learn-1.6.1:\n",
            "      Successfully uninstalled scikit-learn-1.6.1\n",
            "\u001b[31mERROR: pip's dependency resolver does not currently take into account all the packages that are installed. This behaviour is the source of the following dependency conflicts.\n",
            "sklearn-compat 0.1.3 requires scikit-learn<1.7,>=1.2, but you have scikit-learn 1.7.0 which is incompatible.\u001b[0m\u001b[31m\n",
            "\u001b[0mSuccessfully installed scikit-learn-1.7.0\n"
          ]
        }
      ]
    },
    {
      "cell_type": "code",
      "source": [
        "## I assume this version of scikit-learn will be suffient\n",
        "##since this project will focus on data science rather than\n",
        "#machine learning but it is something to keep in mind."
      ],
      "metadata": {
        "id": "1EqT5SITdib8"
      },
      "execution_count": 31,
      "outputs": []
    },
    {
      "cell_type": "markdown",
      "source": [
        "Load dataset"
      ],
      "metadata": {
        "id": "0o3cG0DDlL8W"
      }
    },
    {
      "cell_type": "code",
      "source": [
        "import pandas as pd\n"
      ],
      "metadata": {
        "id": "t3WBOsDhbH5O"
      },
      "execution_count": 32,
      "outputs": []
    },
    {
      "cell_type": "code",
      "source": [
        "spotify_df = pd.read_csv(\"/content/data.csv\")"
      ],
      "metadata": {
        "id": "Z81YlahplSp5"
      },
      "execution_count": 33,
      "outputs": []
    },
    {
      "cell_type": "code",
      "source": [
        "spotify_df.head(7)"
      ],
      "metadata": {
        "colab": {
          "base_uri": "https://localhost:8080/",
          "height": 618
        },
        "id": "JJ0obMIVlw2N",
        "outputId": "af644909-837a-4ae8-9566-7f577fff49d0"
      },
      "execution_count": 34,
      "outputs": [
        {
          "output_type": "execute_result",
          "data": {
            "text/plain": [
              "                       id                                            name  \\\n",
              "0  6KbQ3uYMLKb5jDxLF7wYDD                     Singende Bataillone 1. Teil   \n",
              "1  6KuQTIu1KoTTkLXKrwlLPV        Fantasiestücke, Op. 111: Più tosto lento   \n",
              "2  6L63VW0PibdM1HDSBoqnoM                  Chapter 1.18 - Zamek kaniowski   \n",
              "3  6M94FkXd15sOAOQYRnWPN8   Bebamos Juntos - Instrumental (Remasterizado)   \n",
              "4  6N6tiFZ9vLTSOIxkj8qKrd     Polonaise-Fantaisie in A-Flat Major, Op. 61   \n",
              "5  6NxAf7M8DNHOBTmEd3JSO5                     Scherzo a capriccio: Presto   \n",
              "6  6O0puPuyrxPjDTHDUgsWI7  Valse oubliée No. 1 in F-Sharp Major, S. 215/1   \n",
              "\n",
              "                                      artists  duration_ms release_date  year  \\\n",
              "0                         ['Carl Woitschach']       158648         1928  1928   \n",
              "1    ['Robert Schumann', 'Vladimir Horowitz']       282133         1928  1928   \n",
              "2                     ['Seweryn Goszczyński']       104300         1928  1928   \n",
              "3                        ['Francisco Canaro']       180760      9/25/28  1928   \n",
              "4    ['Frédéric Chopin', 'Vladimir Horowitz']       687733         1928  1928   \n",
              "5  ['Felix Mendelssohn', 'Vladimir Horowitz']       352600         1928  1928   \n",
              "6        ['Franz Liszt', 'Vladimir Horowitz']       136627         1928  1928   \n",
              "\n",
              "   acousticness  danceability  energy  instrumentalness  liveness  loudness  \\\n",
              "0         0.995         0.708  0.1950             0.563    0.1510   -12.428   \n",
              "1         0.994         0.379  0.0135             0.901    0.0763   -28.454   \n",
              "2         0.604         0.749  0.2200             0.000    0.1190   -19.924   \n",
              "3         0.995         0.781  0.1300             0.887    0.1110   -14.734   \n",
              "4         0.990         0.210  0.2040             0.908    0.0980   -16.829   \n",
              "5         0.995         0.424  0.1200             0.911    0.0915   -19.242   \n",
              "6         0.956         0.444  0.1970             0.435    0.0744   -17.226   \n",
              "\n",
              "   speechiness    tempo  valence  mode  key  popularity  explicit  \n",
              "0       0.0506  118.469   0.7790     1   10           0         0  \n",
              "1       0.0462   83.972   0.0767     1    8           0         0  \n",
              "2       0.9290  107.177   0.8800     0    5           0         0  \n",
              "3       0.0926  108.003   0.7200     0    1           0         0  \n",
              "4       0.0424   62.149   0.0693     1   11           1         0  \n",
              "5       0.0593   63.521   0.2660     0    6           0         0  \n",
              "6       0.0400   80.495   0.3050     1   11           0         0  "
            ],
            "text/html": [
              "\n",
              "  <div id=\"df-ac86c595-beab-49a1-b2b8-ff26875066ff\" class=\"colab-df-container\">\n",
              "    <div>\n",
              "<style scoped>\n",
              "    .dataframe tbody tr th:only-of-type {\n",
              "        vertical-align: middle;\n",
              "    }\n",
              "\n",
              "    .dataframe tbody tr th {\n",
              "        vertical-align: top;\n",
              "    }\n",
              "\n",
              "    .dataframe thead th {\n",
              "        text-align: right;\n",
              "    }\n",
              "</style>\n",
              "<table border=\"1\" class=\"dataframe\">\n",
              "  <thead>\n",
              "    <tr style=\"text-align: right;\">\n",
              "      <th></th>\n",
              "      <th>id</th>\n",
              "      <th>name</th>\n",
              "      <th>artists</th>\n",
              "      <th>duration_ms</th>\n",
              "      <th>release_date</th>\n",
              "      <th>year</th>\n",
              "      <th>acousticness</th>\n",
              "      <th>danceability</th>\n",
              "      <th>energy</th>\n",
              "      <th>instrumentalness</th>\n",
              "      <th>liveness</th>\n",
              "      <th>loudness</th>\n",
              "      <th>speechiness</th>\n",
              "      <th>tempo</th>\n",
              "      <th>valence</th>\n",
              "      <th>mode</th>\n",
              "      <th>key</th>\n",
              "      <th>popularity</th>\n",
              "      <th>explicit</th>\n",
              "    </tr>\n",
              "  </thead>\n",
              "  <tbody>\n",
              "    <tr>\n",
              "      <th>0</th>\n",
              "      <td>6KbQ3uYMLKb5jDxLF7wYDD</td>\n",
              "      <td>Singende Bataillone 1. Teil</td>\n",
              "      <td>['Carl Woitschach']</td>\n",
              "      <td>158648</td>\n",
              "      <td>1928</td>\n",
              "      <td>1928</td>\n",
              "      <td>0.995</td>\n",
              "      <td>0.708</td>\n",
              "      <td>0.1950</td>\n",
              "      <td>0.563</td>\n",
              "      <td>0.1510</td>\n",
              "      <td>-12.428</td>\n",
              "      <td>0.0506</td>\n",
              "      <td>118.469</td>\n",
              "      <td>0.7790</td>\n",
              "      <td>1</td>\n",
              "      <td>10</td>\n",
              "      <td>0</td>\n",
              "      <td>0</td>\n",
              "    </tr>\n",
              "    <tr>\n",
              "      <th>1</th>\n",
              "      <td>6KuQTIu1KoTTkLXKrwlLPV</td>\n",
              "      <td>Fantasiestücke, Op. 111: Più tosto lento</td>\n",
              "      <td>['Robert Schumann', 'Vladimir Horowitz']</td>\n",
              "      <td>282133</td>\n",
              "      <td>1928</td>\n",
              "      <td>1928</td>\n",
              "      <td>0.994</td>\n",
              "      <td>0.379</td>\n",
              "      <td>0.0135</td>\n",
              "      <td>0.901</td>\n",
              "      <td>0.0763</td>\n",
              "      <td>-28.454</td>\n",
              "      <td>0.0462</td>\n",
              "      <td>83.972</td>\n",
              "      <td>0.0767</td>\n",
              "      <td>1</td>\n",
              "      <td>8</td>\n",
              "      <td>0</td>\n",
              "      <td>0</td>\n",
              "    </tr>\n",
              "    <tr>\n",
              "      <th>2</th>\n",
              "      <td>6L63VW0PibdM1HDSBoqnoM</td>\n",
              "      <td>Chapter 1.18 - Zamek kaniowski</td>\n",
              "      <td>['Seweryn Goszczyński']</td>\n",
              "      <td>104300</td>\n",
              "      <td>1928</td>\n",
              "      <td>1928</td>\n",
              "      <td>0.604</td>\n",
              "      <td>0.749</td>\n",
              "      <td>0.2200</td>\n",
              "      <td>0.000</td>\n",
              "      <td>0.1190</td>\n",
              "      <td>-19.924</td>\n",
              "      <td>0.9290</td>\n",
              "      <td>107.177</td>\n",
              "      <td>0.8800</td>\n",
              "      <td>0</td>\n",
              "      <td>5</td>\n",
              "      <td>0</td>\n",
              "      <td>0</td>\n",
              "    </tr>\n",
              "    <tr>\n",
              "      <th>3</th>\n",
              "      <td>6M94FkXd15sOAOQYRnWPN8</td>\n",
              "      <td>Bebamos Juntos - Instrumental (Remasterizado)</td>\n",
              "      <td>['Francisco Canaro']</td>\n",
              "      <td>180760</td>\n",
              "      <td>9/25/28</td>\n",
              "      <td>1928</td>\n",
              "      <td>0.995</td>\n",
              "      <td>0.781</td>\n",
              "      <td>0.1300</td>\n",
              "      <td>0.887</td>\n",
              "      <td>0.1110</td>\n",
              "      <td>-14.734</td>\n",
              "      <td>0.0926</td>\n",
              "      <td>108.003</td>\n",
              "      <td>0.7200</td>\n",
              "      <td>0</td>\n",
              "      <td>1</td>\n",
              "      <td>0</td>\n",
              "      <td>0</td>\n",
              "    </tr>\n",
              "    <tr>\n",
              "      <th>4</th>\n",
              "      <td>6N6tiFZ9vLTSOIxkj8qKrd</td>\n",
              "      <td>Polonaise-Fantaisie in A-Flat Major, Op. 61</td>\n",
              "      <td>['Frédéric Chopin', 'Vladimir Horowitz']</td>\n",
              "      <td>687733</td>\n",
              "      <td>1928</td>\n",
              "      <td>1928</td>\n",
              "      <td>0.990</td>\n",
              "      <td>0.210</td>\n",
              "      <td>0.2040</td>\n",
              "      <td>0.908</td>\n",
              "      <td>0.0980</td>\n",
              "      <td>-16.829</td>\n",
              "      <td>0.0424</td>\n",
              "      <td>62.149</td>\n",
              "      <td>0.0693</td>\n",
              "      <td>1</td>\n",
              "      <td>11</td>\n",
              "      <td>1</td>\n",
              "      <td>0</td>\n",
              "    </tr>\n",
              "    <tr>\n",
              "      <th>5</th>\n",
              "      <td>6NxAf7M8DNHOBTmEd3JSO5</td>\n",
              "      <td>Scherzo a capriccio: Presto</td>\n",
              "      <td>['Felix Mendelssohn', 'Vladimir Horowitz']</td>\n",
              "      <td>352600</td>\n",
              "      <td>1928</td>\n",
              "      <td>1928</td>\n",
              "      <td>0.995</td>\n",
              "      <td>0.424</td>\n",
              "      <td>0.1200</td>\n",
              "      <td>0.911</td>\n",
              "      <td>0.0915</td>\n",
              "      <td>-19.242</td>\n",
              "      <td>0.0593</td>\n",
              "      <td>63.521</td>\n",
              "      <td>0.2660</td>\n",
              "      <td>0</td>\n",
              "      <td>6</td>\n",
              "      <td>0</td>\n",
              "      <td>0</td>\n",
              "    </tr>\n",
              "    <tr>\n",
              "      <th>6</th>\n",
              "      <td>6O0puPuyrxPjDTHDUgsWI7</td>\n",
              "      <td>Valse oubliée No. 1 in F-Sharp Major, S. 215/1</td>\n",
              "      <td>['Franz Liszt', 'Vladimir Horowitz']</td>\n",
              "      <td>136627</td>\n",
              "      <td>1928</td>\n",
              "      <td>1928</td>\n",
              "      <td>0.956</td>\n",
              "      <td>0.444</td>\n",
              "      <td>0.1970</td>\n",
              "      <td>0.435</td>\n",
              "      <td>0.0744</td>\n",
              "      <td>-17.226</td>\n",
              "      <td>0.0400</td>\n",
              "      <td>80.495</td>\n",
              "      <td>0.3050</td>\n",
              "      <td>1</td>\n",
              "      <td>11</td>\n",
              "      <td>0</td>\n",
              "      <td>0</td>\n",
              "    </tr>\n",
              "  </tbody>\n",
              "</table>\n",
              "</div>\n",
              "    <div class=\"colab-df-buttons\">\n",
              "\n",
              "  <div class=\"colab-df-container\">\n",
              "    <button class=\"colab-df-convert\" onclick=\"convertToInteractive('df-ac86c595-beab-49a1-b2b8-ff26875066ff')\"\n",
              "            title=\"Convert this dataframe to an interactive table.\"\n",
              "            style=\"display:none;\">\n",
              "\n",
              "  <svg xmlns=\"http://www.w3.org/2000/svg\" height=\"24px\" viewBox=\"0 -960 960 960\">\n",
              "    <path d=\"M120-120v-720h720v720H120Zm60-500h600v-160H180v160Zm220 220h160v-160H400v160Zm0 220h160v-160H400v160ZM180-400h160v-160H180v160Zm440 0h160v-160H620v160ZM180-180h160v-160H180v160Zm440 0h160v-160H620v160Z\"/>\n",
              "  </svg>\n",
              "    </button>\n",
              "\n",
              "  <style>\n",
              "    .colab-df-container {\n",
              "      display:flex;\n",
              "      gap: 12px;\n",
              "    }\n",
              "\n",
              "    .colab-df-convert {\n",
              "      background-color: #E8F0FE;\n",
              "      border: none;\n",
              "      border-radius: 50%;\n",
              "      cursor: pointer;\n",
              "      display: none;\n",
              "      fill: #1967D2;\n",
              "      height: 32px;\n",
              "      padding: 0 0 0 0;\n",
              "      width: 32px;\n",
              "    }\n",
              "\n",
              "    .colab-df-convert:hover {\n",
              "      background-color: #E2EBFA;\n",
              "      box-shadow: 0px 1px 2px rgba(60, 64, 67, 0.3), 0px 1px 3px 1px rgba(60, 64, 67, 0.15);\n",
              "      fill: #174EA6;\n",
              "    }\n",
              "\n",
              "    .colab-df-buttons div {\n",
              "      margin-bottom: 4px;\n",
              "    }\n",
              "\n",
              "    [theme=dark] .colab-df-convert {\n",
              "      background-color: #3B4455;\n",
              "      fill: #D2E3FC;\n",
              "    }\n",
              "\n",
              "    [theme=dark] .colab-df-convert:hover {\n",
              "      background-color: #434B5C;\n",
              "      box-shadow: 0px 1px 3px 1px rgba(0, 0, 0, 0.15);\n",
              "      filter: drop-shadow(0px 1px 2px rgba(0, 0, 0, 0.3));\n",
              "      fill: #FFFFFF;\n",
              "    }\n",
              "  </style>\n",
              "\n",
              "    <script>\n",
              "      const buttonEl =\n",
              "        document.querySelector('#df-ac86c595-beab-49a1-b2b8-ff26875066ff button.colab-df-convert');\n",
              "      buttonEl.style.display =\n",
              "        google.colab.kernel.accessAllowed ? 'block' : 'none';\n",
              "\n",
              "      async function convertToInteractive(key) {\n",
              "        const element = document.querySelector('#df-ac86c595-beab-49a1-b2b8-ff26875066ff');\n",
              "        const dataTable =\n",
              "          await google.colab.kernel.invokeFunction('convertToInteractive',\n",
              "                                                    [key], {});\n",
              "        if (!dataTable) return;\n",
              "\n",
              "        const docLinkHtml = 'Like what you see? Visit the ' +\n",
              "          '<a target=\"_blank\" href=https://colab.research.google.com/notebooks/data_table.ipynb>data table notebook</a>'\n",
              "          + ' to learn more about interactive tables.';\n",
              "        element.innerHTML = '';\n",
              "        dataTable['output_type'] = 'display_data';\n",
              "        await google.colab.output.renderOutput(dataTable, element);\n",
              "        const docLink = document.createElement('div');\n",
              "        docLink.innerHTML = docLinkHtml;\n",
              "        element.appendChild(docLink);\n",
              "      }\n",
              "    </script>\n",
              "  </div>\n",
              "\n",
              "\n",
              "    <div id=\"df-708bd078-dde9-4aca-80ac-61b665885f66\">\n",
              "      <button class=\"colab-df-quickchart\" onclick=\"quickchart('df-708bd078-dde9-4aca-80ac-61b665885f66')\"\n",
              "                title=\"Suggest charts\"\n",
              "                style=\"display:none;\">\n",
              "\n",
              "<svg xmlns=\"http://www.w3.org/2000/svg\" height=\"24px\"viewBox=\"0 0 24 24\"\n",
              "     width=\"24px\">\n",
              "    <g>\n",
              "        <path d=\"M19 3H5c-1.1 0-2 .9-2 2v14c0 1.1.9 2 2 2h14c1.1 0 2-.9 2-2V5c0-1.1-.9-2-2-2zM9 17H7v-7h2v7zm4 0h-2V7h2v10zm4 0h-2v-4h2v4z\"/>\n",
              "    </g>\n",
              "</svg>\n",
              "      </button>\n",
              "\n",
              "<style>\n",
              "  .colab-df-quickchart {\n",
              "      --bg-color: #E8F0FE;\n",
              "      --fill-color: #1967D2;\n",
              "      --hover-bg-color: #E2EBFA;\n",
              "      --hover-fill-color: #174EA6;\n",
              "      --disabled-fill-color: #AAA;\n",
              "      --disabled-bg-color: #DDD;\n",
              "  }\n",
              "\n",
              "  [theme=dark] .colab-df-quickchart {\n",
              "      --bg-color: #3B4455;\n",
              "      --fill-color: #D2E3FC;\n",
              "      --hover-bg-color: #434B5C;\n",
              "      --hover-fill-color: #FFFFFF;\n",
              "      --disabled-bg-color: #3B4455;\n",
              "      --disabled-fill-color: #666;\n",
              "  }\n",
              "\n",
              "  .colab-df-quickchart {\n",
              "    background-color: var(--bg-color);\n",
              "    border: none;\n",
              "    border-radius: 50%;\n",
              "    cursor: pointer;\n",
              "    display: none;\n",
              "    fill: var(--fill-color);\n",
              "    height: 32px;\n",
              "    padding: 0;\n",
              "    width: 32px;\n",
              "  }\n",
              "\n",
              "  .colab-df-quickchart:hover {\n",
              "    background-color: var(--hover-bg-color);\n",
              "    box-shadow: 0 1px 2px rgba(60, 64, 67, 0.3), 0 1px 3px 1px rgba(60, 64, 67, 0.15);\n",
              "    fill: var(--button-hover-fill-color);\n",
              "  }\n",
              "\n",
              "  .colab-df-quickchart-complete:disabled,\n",
              "  .colab-df-quickchart-complete:disabled:hover {\n",
              "    background-color: var(--disabled-bg-color);\n",
              "    fill: var(--disabled-fill-color);\n",
              "    box-shadow: none;\n",
              "  }\n",
              "\n",
              "  .colab-df-spinner {\n",
              "    border: 2px solid var(--fill-color);\n",
              "    border-color: transparent;\n",
              "    border-bottom-color: var(--fill-color);\n",
              "    animation:\n",
              "      spin 1s steps(1) infinite;\n",
              "  }\n",
              "\n",
              "  @keyframes spin {\n",
              "    0% {\n",
              "      border-color: transparent;\n",
              "      border-bottom-color: var(--fill-color);\n",
              "      border-left-color: var(--fill-color);\n",
              "    }\n",
              "    20% {\n",
              "      border-color: transparent;\n",
              "      border-left-color: var(--fill-color);\n",
              "      border-top-color: var(--fill-color);\n",
              "    }\n",
              "    30% {\n",
              "      border-color: transparent;\n",
              "      border-left-color: var(--fill-color);\n",
              "      border-top-color: var(--fill-color);\n",
              "      border-right-color: var(--fill-color);\n",
              "    }\n",
              "    40% {\n",
              "      border-color: transparent;\n",
              "      border-right-color: var(--fill-color);\n",
              "      border-top-color: var(--fill-color);\n",
              "    }\n",
              "    60% {\n",
              "      border-color: transparent;\n",
              "      border-right-color: var(--fill-color);\n",
              "    }\n",
              "    80% {\n",
              "      border-color: transparent;\n",
              "      border-right-color: var(--fill-color);\n",
              "      border-bottom-color: var(--fill-color);\n",
              "    }\n",
              "    90% {\n",
              "      border-color: transparent;\n",
              "      border-bottom-color: var(--fill-color);\n",
              "    }\n",
              "  }\n",
              "</style>\n",
              "\n",
              "      <script>\n",
              "        async function quickchart(key) {\n",
              "          const quickchartButtonEl =\n",
              "            document.querySelector('#' + key + ' button');\n",
              "          quickchartButtonEl.disabled = true;  // To prevent multiple clicks.\n",
              "          quickchartButtonEl.classList.add('colab-df-spinner');\n",
              "          try {\n",
              "            const charts = await google.colab.kernel.invokeFunction(\n",
              "                'suggestCharts', [key], {});\n",
              "          } catch (error) {\n",
              "            console.error('Error during call to suggestCharts:', error);\n",
              "          }\n",
              "          quickchartButtonEl.classList.remove('colab-df-spinner');\n",
              "          quickchartButtonEl.classList.add('colab-df-quickchart-complete');\n",
              "        }\n",
              "        (() => {\n",
              "          let quickchartButtonEl =\n",
              "            document.querySelector('#df-708bd078-dde9-4aca-80ac-61b665885f66 button');\n",
              "          quickchartButtonEl.style.display =\n",
              "            google.colab.kernel.accessAllowed ? 'block' : 'none';\n",
              "        })();\n",
              "      </script>\n",
              "    </div>\n",
              "\n",
              "    </div>\n",
              "  </div>\n"
            ],
            "application/vnd.google.colaboratory.intrinsic+json": {
              "type": "dataframe",
              "variable_name": "spotify_df"
            }
          },
          "metadata": {},
          "execution_count": 34
        }
      ]
    },
    {
      "cell_type": "code",
      "source": [
        "spotify_df.tail(7)"
      ],
      "metadata": {
        "colab": {
          "base_uri": "https://localhost:8080/",
          "height": 601
        },
        "id": "FpZuLZZh8UoO",
        "outputId": "efaaf839-8b70-42a0-93be-be188b9bf16f"
      },
      "execution_count": 35,
      "outputs": [
        {
          "output_type": "execute_result",
          "data": {
            "text/plain": [
              "                            id                             name  \\\n",
              "169902  5QZ11AHm7xiytOGXGlxQi5  Back Home (feat. Summer Walker)   \n",
              "169903  52Cpyvd2dKb6XRn313nH87                  Ojos De Maniaco   \n",
              "169904  4KppkflX7I3vJQk7urOJaS    Skechers (feat. Tyga) - Remix   \n",
              "169905  1ehhGlTvjtHo2e4xJFB0SZ   Sweeter (feat. Terrace Martin)   \n",
              "169906  52eycxprLhK3lPcRLbQiVk                 How Would I Know   \n",
              "169907  3wYOGJYD31sLRmBgCvWxa4                      I Found You   \n",
              "169908  60RFlt48hm0l4Fu0JoccOl            More Hearts Than Mine   \n",
              "\n",
              "                                   artists  duration_ms release_date  year  \\\n",
              "169902     ['Trey Songz', 'Summer Walker']       194576      4/29/20  2020   \n",
              "169903            ['LEGADO 7', 'Junior H']       218501      2/28/20  2020   \n",
              "169904              ['DripReport', 'Tyga']       163800      5/15/20  2020   \n",
              "169905  ['Leon Bridges', 'Terrace Martin']       167468       6/8/20  2020   \n",
              "169906               ['Kygo', 'Oh Wonder']       180700      5/29/20  2020   \n",
              "169907       ['Cash Cash', 'Andy Grammer']       167308      2/28/20  2020   \n",
              "169908                  ['Ingrid Andress']       214787      3/27/20  2020   \n",
              "\n",
              "        acousticness  danceability  energy  instrumentalness  liveness  \\\n",
              "169902        0.0227         0.619   0.719          0.000000    0.0839   \n",
              "169903        0.2100         0.795   0.585          0.000001    0.1120   \n",
              "169904        0.1730         0.875   0.443          0.000032    0.0891   \n",
              "169905        0.0167         0.719   0.385          0.031300    0.1110   \n",
              "169906        0.5380         0.514   0.539          0.002330    0.1080   \n",
              "169907        0.0714         0.646   0.761          0.000000    0.2220   \n",
              "169908        0.1090         0.512   0.428          0.000000    0.1050   \n",
              "\n",
              "        loudness  speechiness    tempo  valence  mode  key  popularity  \\\n",
              "169902    -4.111       0.1570   86.036    0.351     1    0          69   \n",
              "169903    -4.451       0.0374   97.479    0.934     1    8          68   \n",
              "169904    -7.461       0.1430  100.012    0.306     1    1          75   \n",
              "169905   -10.907       0.0403  128.000    0.270     1    8          64   \n",
              "169906    -9.332       0.1050  123.700    0.153     1    7          70   \n",
              "169907    -2.557       0.0385  129.916    0.472     1    1          70   \n",
              "169908    -7.387       0.0271   80.588    0.366     1    0          65   \n",
              "\n",
              "        explicit  \n",
              "169902         1  \n",
              "169903         0  \n",
              "169904         1  \n",
              "169905         0  \n",
              "169906         0  \n",
              "169907         0  \n",
              "169908         0  "
            ],
            "text/html": [
              "\n",
              "  <div id=\"df-181b105d-df9f-4e26-a219-9053691b756c\" class=\"colab-df-container\">\n",
              "    <div>\n",
              "<style scoped>\n",
              "    .dataframe tbody tr th:only-of-type {\n",
              "        vertical-align: middle;\n",
              "    }\n",
              "\n",
              "    .dataframe tbody tr th {\n",
              "        vertical-align: top;\n",
              "    }\n",
              "\n",
              "    .dataframe thead th {\n",
              "        text-align: right;\n",
              "    }\n",
              "</style>\n",
              "<table border=\"1\" class=\"dataframe\">\n",
              "  <thead>\n",
              "    <tr style=\"text-align: right;\">\n",
              "      <th></th>\n",
              "      <th>id</th>\n",
              "      <th>name</th>\n",
              "      <th>artists</th>\n",
              "      <th>duration_ms</th>\n",
              "      <th>release_date</th>\n",
              "      <th>year</th>\n",
              "      <th>acousticness</th>\n",
              "      <th>danceability</th>\n",
              "      <th>energy</th>\n",
              "      <th>instrumentalness</th>\n",
              "      <th>liveness</th>\n",
              "      <th>loudness</th>\n",
              "      <th>speechiness</th>\n",
              "      <th>tempo</th>\n",
              "      <th>valence</th>\n",
              "      <th>mode</th>\n",
              "      <th>key</th>\n",
              "      <th>popularity</th>\n",
              "      <th>explicit</th>\n",
              "    </tr>\n",
              "  </thead>\n",
              "  <tbody>\n",
              "    <tr>\n",
              "      <th>169902</th>\n",
              "      <td>5QZ11AHm7xiytOGXGlxQi5</td>\n",
              "      <td>Back Home (feat. Summer Walker)</td>\n",
              "      <td>['Trey Songz', 'Summer Walker']</td>\n",
              "      <td>194576</td>\n",
              "      <td>4/29/20</td>\n",
              "      <td>2020</td>\n",
              "      <td>0.0227</td>\n",
              "      <td>0.619</td>\n",
              "      <td>0.719</td>\n",
              "      <td>0.000000</td>\n",
              "      <td>0.0839</td>\n",
              "      <td>-4.111</td>\n",
              "      <td>0.1570</td>\n",
              "      <td>86.036</td>\n",
              "      <td>0.351</td>\n",
              "      <td>1</td>\n",
              "      <td>0</td>\n",
              "      <td>69</td>\n",
              "      <td>1</td>\n",
              "    </tr>\n",
              "    <tr>\n",
              "      <th>169903</th>\n",
              "      <td>52Cpyvd2dKb6XRn313nH87</td>\n",
              "      <td>Ojos De Maniaco</td>\n",
              "      <td>['LEGADO 7', 'Junior H']</td>\n",
              "      <td>218501</td>\n",
              "      <td>2/28/20</td>\n",
              "      <td>2020</td>\n",
              "      <td>0.2100</td>\n",
              "      <td>0.795</td>\n",
              "      <td>0.585</td>\n",
              "      <td>0.000001</td>\n",
              "      <td>0.1120</td>\n",
              "      <td>-4.451</td>\n",
              "      <td>0.0374</td>\n",
              "      <td>97.479</td>\n",
              "      <td>0.934</td>\n",
              "      <td>1</td>\n",
              "      <td>8</td>\n",
              "      <td>68</td>\n",
              "      <td>0</td>\n",
              "    </tr>\n",
              "    <tr>\n",
              "      <th>169904</th>\n",
              "      <td>4KppkflX7I3vJQk7urOJaS</td>\n",
              "      <td>Skechers (feat. Tyga) - Remix</td>\n",
              "      <td>['DripReport', 'Tyga']</td>\n",
              "      <td>163800</td>\n",
              "      <td>5/15/20</td>\n",
              "      <td>2020</td>\n",
              "      <td>0.1730</td>\n",
              "      <td>0.875</td>\n",
              "      <td>0.443</td>\n",
              "      <td>0.000032</td>\n",
              "      <td>0.0891</td>\n",
              "      <td>-7.461</td>\n",
              "      <td>0.1430</td>\n",
              "      <td>100.012</td>\n",
              "      <td>0.306</td>\n",
              "      <td>1</td>\n",
              "      <td>1</td>\n",
              "      <td>75</td>\n",
              "      <td>1</td>\n",
              "    </tr>\n",
              "    <tr>\n",
              "      <th>169905</th>\n",
              "      <td>1ehhGlTvjtHo2e4xJFB0SZ</td>\n",
              "      <td>Sweeter (feat. Terrace Martin)</td>\n",
              "      <td>['Leon Bridges', 'Terrace Martin']</td>\n",
              "      <td>167468</td>\n",
              "      <td>6/8/20</td>\n",
              "      <td>2020</td>\n",
              "      <td>0.0167</td>\n",
              "      <td>0.719</td>\n",
              "      <td>0.385</td>\n",
              "      <td>0.031300</td>\n",
              "      <td>0.1110</td>\n",
              "      <td>-10.907</td>\n",
              "      <td>0.0403</td>\n",
              "      <td>128.000</td>\n",
              "      <td>0.270</td>\n",
              "      <td>1</td>\n",
              "      <td>8</td>\n",
              "      <td>64</td>\n",
              "      <td>0</td>\n",
              "    </tr>\n",
              "    <tr>\n",
              "      <th>169906</th>\n",
              "      <td>52eycxprLhK3lPcRLbQiVk</td>\n",
              "      <td>How Would I Know</td>\n",
              "      <td>['Kygo', 'Oh Wonder']</td>\n",
              "      <td>180700</td>\n",
              "      <td>5/29/20</td>\n",
              "      <td>2020</td>\n",
              "      <td>0.5380</td>\n",
              "      <td>0.514</td>\n",
              "      <td>0.539</td>\n",
              "      <td>0.002330</td>\n",
              "      <td>0.1080</td>\n",
              "      <td>-9.332</td>\n",
              "      <td>0.1050</td>\n",
              "      <td>123.700</td>\n",
              "      <td>0.153</td>\n",
              "      <td>1</td>\n",
              "      <td>7</td>\n",
              "      <td>70</td>\n",
              "      <td>0</td>\n",
              "    </tr>\n",
              "    <tr>\n",
              "      <th>169907</th>\n",
              "      <td>3wYOGJYD31sLRmBgCvWxa4</td>\n",
              "      <td>I Found You</td>\n",
              "      <td>['Cash Cash', 'Andy Grammer']</td>\n",
              "      <td>167308</td>\n",
              "      <td>2/28/20</td>\n",
              "      <td>2020</td>\n",
              "      <td>0.0714</td>\n",
              "      <td>0.646</td>\n",
              "      <td>0.761</td>\n",
              "      <td>0.000000</td>\n",
              "      <td>0.2220</td>\n",
              "      <td>-2.557</td>\n",
              "      <td>0.0385</td>\n",
              "      <td>129.916</td>\n",
              "      <td>0.472</td>\n",
              "      <td>1</td>\n",
              "      <td>1</td>\n",
              "      <td>70</td>\n",
              "      <td>0</td>\n",
              "    </tr>\n",
              "    <tr>\n",
              "      <th>169908</th>\n",
              "      <td>60RFlt48hm0l4Fu0JoccOl</td>\n",
              "      <td>More Hearts Than Mine</td>\n",
              "      <td>['Ingrid Andress']</td>\n",
              "      <td>214787</td>\n",
              "      <td>3/27/20</td>\n",
              "      <td>2020</td>\n",
              "      <td>0.1090</td>\n",
              "      <td>0.512</td>\n",
              "      <td>0.428</td>\n",
              "      <td>0.000000</td>\n",
              "      <td>0.1050</td>\n",
              "      <td>-7.387</td>\n",
              "      <td>0.0271</td>\n",
              "      <td>80.588</td>\n",
              "      <td>0.366</td>\n",
              "      <td>1</td>\n",
              "      <td>0</td>\n",
              "      <td>65</td>\n",
              "      <td>0</td>\n",
              "    </tr>\n",
              "  </tbody>\n",
              "</table>\n",
              "</div>\n",
              "    <div class=\"colab-df-buttons\">\n",
              "\n",
              "  <div class=\"colab-df-container\">\n",
              "    <button class=\"colab-df-convert\" onclick=\"convertToInteractive('df-181b105d-df9f-4e26-a219-9053691b756c')\"\n",
              "            title=\"Convert this dataframe to an interactive table.\"\n",
              "            style=\"display:none;\">\n",
              "\n",
              "  <svg xmlns=\"http://www.w3.org/2000/svg\" height=\"24px\" viewBox=\"0 -960 960 960\">\n",
              "    <path d=\"M120-120v-720h720v720H120Zm60-500h600v-160H180v160Zm220 220h160v-160H400v160Zm0 220h160v-160H400v160ZM180-400h160v-160H180v160Zm440 0h160v-160H620v160ZM180-180h160v-160H180v160Zm440 0h160v-160H620v160Z\"/>\n",
              "  </svg>\n",
              "    </button>\n",
              "\n",
              "  <style>\n",
              "    .colab-df-container {\n",
              "      display:flex;\n",
              "      gap: 12px;\n",
              "    }\n",
              "\n",
              "    .colab-df-convert {\n",
              "      background-color: #E8F0FE;\n",
              "      border: none;\n",
              "      border-radius: 50%;\n",
              "      cursor: pointer;\n",
              "      display: none;\n",
              "      fill: #1967D2;\n",
              "      height: 32px;\n",
              "      padding: 0 0 0 0;\n",
              "      width: 32px;\n",
              "    }\n",
              "\n",
              "    .colab-df-convert:hover {\n",
              "      background-color: #E2EBFA;\n",
              "      box-shadow: 0px 1px 2px rgba(60, 64, 67, 0.3), 0px 1px 3px 1px rgba(60, 64, 67, 0.15);\n",
              "      fill: #174EA6;\n",
              "    }\n",
              "\n",
              "    .colab-df-buttons div {\n",
              "      margin-bottom: 4px;\n",
              "    }\n",
              "\n",
              "    [theme=dark] .colab-df-convert {\n",
              "      background-color: #3B4455;\n",
              "      fill: #D2E3FC;\n",
              "    }\n",
              "\n",
              "    [theme=dark] .colab-df-convert:hover {\n",
              "      background-color: #434B5C;\n",
              "      box-shadow: 0px 1px 3px 1px rgba(0, 0, 0, 0.15);\n",
              "      filter: drop-shadow(0px 1px 2px rgba(0, 0, 0, 0.3));\n",
              "      fill: #FFFFFF;\n",
              "    }\n",
              "  </style>\n",
              "\n",
              "    <script>\n",
              "      const buttonEl =\n",
              "        document.querySelector('#df-181b105d-df9f-4e26-a219-9053691b756c button.colab-df-convert');\n",
              "      buttonEl.style.display =\n",
              "        google.colab.kernel.accessAllowed ? 'block' : 'none';\n",
              "\n",
              "      async function convertToInteractive(key) {\n",
              "        const element = document.querySelector('#df-181b105d-df9f-4e26-a219-9053691b756c');\n",
              "        const dataTable =\n",
              "          await google.colab.kernel.invokeFunction('convertToInteractive',\n",
              "                                                    [key], {});\n",
              "        if (!dataTable) return;\n",
              "\n",
              "        const docLinkHtml = 'Like what you see? Visit the ' +\n",
              "          '<a target=\"_blank\" href=https://colab.research.google.com/notebooks/data_table.ipynb>data table notebook</a>'\n",
              "          + ' to learn more about interactive tables.';\n",
              "        element.innerHTML = '';\n",
              "        dataTable['output_type'] = 'display_data';\n",
              "        await google.colab.output.renderOutput(dataTable, element);\n",
              "        const docLink = document.createElement('div');\n",
              "        docLink.innerHTML = docLinkHtml;\n",
              "        element.appendChild(docLink);\n",
              "      }\n",
              "    </script>\n",
              "  </div>\n",
              "\n",
              "\n",
              "    <div id=\"df-e8735c93-e683-4135-a26f-0b32ca5438c5\">\n",
              "      <button class=\"colab-df-quickchart\" onclick=\"quickchart('df-e8735c93-e683-4135-a26f-0b32ca5438c5')\"\n",
              "                title=\"Suggest charts\"\n",
              "                style=\"display:none;\">\n",
              "\n",
              "<svg xmlns=\"http://www.w3.org/2000/svg\" height=\"24px\"viewBox=\"0 0 24 24\"\n",
              "     width=\"24px\">\n",
              "    <g>\n",
              "        <path d=\"M19 3H5c-1.1 0-2 .9-2 2v14c0 1.1.9 2 2 2h14c1.1 0 2-.9 2-2V5c0-1.1-.9-2-2-2zM9 17H7v-7h2v7zm4 0h-2V7h2v10zm4 0h-2v-4h2v4z\"/>\n",
              "    </g>\n",
              "</svg>\n",
              "      </button>\n",
              "\n",
              "<style>\n",
              "  .colab-df-quickchart {\n",
              "      --bg-color: #E8F0FE;\n",
              "      --fill-color: #1967D2;\n",
              "      --hover-bg-color: #E2EBFA;\n",
              "      --hover-fill-color: #174EA6;\n",
              "      --disabled-fill-color: #AAA;\n",
              "      --disabled-bg-color: #DDD;\n",
              "  }\n",
              "\n",
              "  [theme=dark] .colab-df-quickchart {\n",
              "      --bg-color: #3B4455;\n",
              "      --fill-color: #D2E3FC;\n",
              "      --hover-bg-color: #434B5C;\n",
              "      --hover-fill-color: #FFFFFF;\n",
              "      --disabled-bg-color: #3B4455;\n",
              "      --disabled-fill-color: #666;\n",
              "  }\n",
              "\n",
              "  .colab-df-quickchart {\n",
              "    background-color: var(--bg-color);\n",
              "    border: none;\n",
              "    border-radius: 50%;\n",
              "    cursor: pointer;\n",
              "    display: none;\n",
              "    fill: var(--fill-color);\n",
              "    height: 32px;\n",
              "    padding: 0;\n",
              "    width: 32px;\n",
              "  }\n",
              "\n",
              "  .colab-df-quickchart:hover {\n",
              "    background-color: var(--hover-bg-color);\n",
              "    box-shadow: 0 1px 2px rgba(60, 64, 67, 0.3), 0 1px 3px 1px rgba(60, 64, 67, 0.15);\n",
              "    fill: var(--button-hover-fill-color);\n",
              "  }\n",
              "\n",
              "  .colab-df-quickchart-complete:disabled,\n",
              "  .colab-df-quickchart-complete:disabled:hover {\n",
              "    background-color: var(--disabled-bg-color);\n",
              "    fill: var(--disabled-fill-color);\n",
              "    box-shadow: none;\n",
              "  }\n",
              "\n",
              "  .colab-df-spinner {\n",
              "    border: 2px solid var(--fill-color);\n",
              "    border-color: transparent;\n",
              "    border-bottom-color: var(--fill-color);\n",
              "    animation:\n",
              "      spin 1s steps(1) infinite;\n",
              "  }\n",
              "\n",
              "  @keyframes spin {\n",
              "    0% {\n",
              "      border-color: transparent;\n",
              "      border-bottom-color: var(--fill-color);\n",
              "      border-left-color: var(--fill-color);\n",
              "    }\n",
              "    20% {\n",
              "      border-color: transparent;\n",
              "      border-left-color: var(--fill-color);\n",
              "      border-top-color: var(--fill-color);\n",
              "    }\n",
              "    30% {\n",
              "      border-color: transparent;\n",
              "      border-left-color: var(--fill-color);\n",
              "      border-top-color: var(--fill-color);\n",
              "      border-right-color: var(--fill-color);\n",
              "    }\n",
              "    40% {\n",
              "      border-color: transparent;\n",
              "      border-right-color: var(--fill-color);\n",
              "      border-top-color: var(--fill-color);\n",
              "    }\n",
              "    60% {\n",
              "      border-color: transparent;\n",
              "      border-right-color: var(--fill-color);\n",
              "    }\n",
              "    80% {\n",
              "      border-color: transparent;\n",
              "      border-right-color: var(--fill-color);\n",
              "      border-bottom-color: var(--fill-color);\n",
              "    }\n",
              "    90% {\n",
              "      border-color: transparent;\n",
              "      border-bottom-color: var(--fill-color);\n",
              "    }\n",
              "  }\n",
              "</style>\n",
              "\n",
              "      <script>\n",
              "        async function quickchart(key) {\n",
              "          const quickchartButtonEl =\n",
              "            document.querySelector('#' + key + ' button');\n",
              "          quickchartButtonEl.disabled = true;  // To prevent multiple clicks.\n",
              "          quickchartButtonEl.classList.add('colab-df-spinner');\n",
              "          try {\n",
              "            const charts = await google.colab.kernel.invokeFunction(\n",
              "                'suggestCharts', [key], {});\n",
              "          } catch (error) {\n",
              "            console.error('Error during call to suggestCharts:', error);\n",
              "          }\n",
              "          quickchartButtonEl.classList.remove('colab-df-spinner');\n",
              "          quickchartButtonEl.classList.add('colab-df-quickchart-complete');\n",
              "        }\n",
              "        (() => {\n",
              "          let quickchartButtonEl =\n",
              "            document.querySelector('#df-e8735c93-e683-4135-a26f-0b32ca5438c5 button');\n",
              "          quickchartButtonEl.style.display =\n",
              "            google.colab.kernel.accessAllowed ? 'block' : 'none';\n",
              "        })();\n",
              "      </script>\n",
              "    </div>\n",
              "\n",
              "    </div>\n",
              "  </div>\n"
            ],
            "application/vnd.google.colaboratory.intrinsic+json": {
              "type": "dataframe",
              "repr_error": "0"
            }
          },
          "metadata": {},
          "execution_count": 35
        }
      ]
    },
    {
      "cell_type": "code",
      "source": [
        "spotify_df.describe()"
      ],
      "metadata": {
        "colab": {
          "base_uri": "https://localhost:8080/",
          "height": 320
        },
        "id": "utmIt3KO8mON",
        "outputId": "8e037be1-941e-4ad8-df30-1e94f9be9296"
      },
      "execution_count": 36,
      "outputs": [
        {
          "output_type": "execute_result",
          "data": {
            "text/plain": [
              "        duration_ms           year   acousticness   danceability  \\\n",
              "count  1.699090e+05  169909.000000  169909.000000  169909.000000   \n",
              "mean   2.314062e+05    1977.223231       0.493214       0.538150   \n",
              "std    1.213219e+05      25.593168       0.376627       0.175346   \n",
              "min    5.108000e+03    1921.000000       0.000000       0.000000   \n",
              "25%    1.710400e+05    1957.000000       0.094500       0.417000   \n",
              "50%    2.086000e+05    1978.000000       0.492000       0.548000   \n",
              "75%    2.629600e+05    1999.000000       0.888000       0.667000   \n",
              "max    5.403500e+06    2020.000000       0.996000       0.988000   \n",
              "\n",
              "              energy  instrumentalness       liveness       loudness  \\\n",
              "count  169909.000000     169909.000000  169909.000000  169909.000000   \n",
              "mean        0.488593          0.161937       0.206690     -11.370289   \n",
              "std         0.267390          0.309329       0.176796       5.666765   \n",
              "min         0.000000          0.000000       0.000000     -60.000000   \n",
              "25%         0.263000          0.000000       0.098400     -14.470000   \n",
              "50%         0.481000          0.000204       0.135000     -10.474000   \n",
              "75%         0.710000          0.086800       0.263000      -7.118000   \n",
              "max         1.000000          1.000000       1.000000       3.855000   \n",
              "\n",
              "         speechiness          tempo        valence           mode  \\\n",
              "count  169909.000000  169909.000000  169909.000000  169909.000000   \n",
              "mean        0.094058     116.948017       0.532095       0.708556   \n",
              "std         0.149937      30.726937       0.262408       0.454429   \n",
              "min         0.000000       0.000000       0.000000       0.000000   \n",
              "25%         0.034900      93.516000       0.322000       0.000000   \n",
              "50%         0.045000     114.778000       0.544000       1.000000   \n",
              "75%         0.075400     135.712000       0.749000       1.000000   \n",
              "max         0.969000     244.091000       1.000000       1.000000   \n",
              "\n",
              "                 key     popularity       explicit  \n",
              "count  169909.000000  169909.000000  169909.000000  \n",
              "mean        5.200519      31.556610       0.084863  \n",
              "std         3.515257      21.582614       0.278679  \n",
              "min         0.000000       0.000000       0.000000  \n",
              "25%         2.000000      12.000000       0.000000  \n",
              "50%         5.000000      33.000000       0.000000  \n",
              "75%         8.000000      48.000000       0.000000  \n",
              "max        11.000000     100.000000       1.000000  "
            ],
            "text/html": [
              "\n",
              "  <div id=\"df-8a0ca7a4-8c85-4eab-866a-5ce59a133949\" class=\"colab-df-container\">\n",
              "    <div>\n",
              "<style scoped>\n",
              "    .dataframe tbody tr th:only-of-type {\n",
              "        vertical-align: middle;\n",
              "    }\n",
              "\n",
              "    .dataframe tbody tr th {\n",
              "        vertical-align: top;\n",
              "    }\n",
              "\n",
              "    .dataframe thead th {\n",
              "        text-align: right;\n",
              "    }\n",
              "</style>\n",
              "<table border=\"1\" class=\"dataframe\">\n",
              "  <thead>\n",
              "    <tr style=\"text-align: right;\">\n",
              "      <th></th>\n",
              "      <th>duration_ms</th>\n",
              "      <th>year</th>\n",
              "      <th>acousticness</th>\n",
              "      <th>danceability</th>\n",
              "      <th>energy</th>\n",
              "      <th>instrumentalness</th>\n",
              "      <th>liveness</th>\n",
              "      <th>loudness</th>\n",
              "      <th>speechiness</th>\n",
              "      <th>tempo</th>\n",
              "      <th>valence</th>\n",
              "      <th>mode</th>\n",
              "      <th>key</th>\n",
              "      <th>popularity</th>\n",
              "      <th>explicit</th>\n",
              "    </tr>\n",
              "  </thead>\n",
              "  <tbody>\n",
              "    <tr>\n",
              "      <th>count</th>\n",
              "      <td>1.699090e+05</td>\n",
              "      <td>169909.000000</td>\n",
              "      <td>169909.000000</td>\n",
              "      <td>169909.000000</td>\n",
              "      <td>169909.000000</td>\n",
              "      <td>169909.000000</td>\n",
              "      <td>169909.000000</td>\n",
              "      <td>169909.000000</td>\n",
              "      <td>169909.000000</td>\n",
              "      <td>169909.000000</td>\n",
              "      <td>169909.000000</td>\n",
              "      <td>169909.000000</td>\n",
              "      <td>169909.000000</td>\n",
              "      <td>169909.000000</td>\n",
              "      <td>169909.000000</td>\n",
              "    </tr>\n",
              "    <tr>\n",
              "      <th>mean</th>\n",
              "      <td>2.314062e+05</td>\n",
              "      <td>1977.223231</td>\n",
              "      <td>0.493214</td>\n",
              "      <td>0.538150</td>\n",
              "      <td>0.488593</td>\n",
              "      <td>0.161937</td>\n",
              "      <td>0.206690</td>\n",
              "      <td>-11.370289</td>\n",
              "      <td>0.094058</td>\n",
              "      <td>116.948017</td>\n",
              "      <td>0.532095</td>\n",
              "      <td>0.708556</td>\n",
              "      <td>5.200519</td>\n",
              "      <td>31.556610</td>\n",
              "      <td>0.084863</td>\n",
              "    </tr>\n",
              "    <tr>\n",
              "      <th>std</th>\n",
              "      <td>1.213219e+05</td>\n",
              "      <td>25.593168</td>\n",
              "      <td>0.376627</td>\n",
              "      <td>0.175346</td>\n",
              "      <td>0.267390</td>\n",
              "      <td>0.309329</td>\n",
              "      <td>0.176796</td>\n",
              "      <td>5.666765</td>\n",
              "      <td>0.149937</td>\n",
              "      <td>30.726937</td>\n",
              "      <td>0.262408</td>\n",
              "      <td>0.454429</td>\n",
              "      <td>3.515257</td>\n",
              "      <td>21.582614</td>\n",
              "      <td>0.278679</td>\n",
              "    </tr>\n",
              "    <tr>\n",
              "      <th>min</th>\n",
              "      <td>5.108000e+03</td>\n",
              "      <td>1921.000000</td>\n",
              "      <td>0.000000</td>\n",
              "      <td>0.000000</td>\n",
              "      <td>0.000000</td>\n",
              "      <td>0.000000</td>\n",
              "      <td>0.000000</td>\n",
              "      <td>-60.000000</td>\n",
              "      <td>0.000000</td>\n",
              "      <td>0.000000</td>\n",
              "      <td>0.000000</td>\n",
              "      <td>0.000000</td>\n",
              "      <td>0.000000</td>\n",
              "      <td>0.000000</td>\n",
              "      <td>0.000000</td>\n",
              "    </tr>\n",
              "    <tr>\n",
              "      <th>25%</th>\n",
              "      <td>1.710400e+05</td>\n",
              "      <td>1957.000000</td>\n",
              "      <td>0.094500</td>\n",
              "      <td>0.417000</td>\n",
              "      <td>0.263000</td>\n",
              "      <td>0.000000</td>\n",
              "      <td>0.098400</td>\n",
              "      <td>-14.470000</td>\n",
              "      <td>0.034900</td>\n",
              "      <td>93.516000</td>\n",
              "      <td>0.322000</td>\n",
              "      <td>0.000000</td>\n",
              "      <td>2.000000</td>\n",
              "      <td>12.000000</td>\n",
              "      <td>0.000000</td>\n",
              "    </tr>\n",
              "    <tr>\n",
              "      <th>50%</th>\n",
              "      <td>2.086000e+05</td>\n",
              "      <td>1978.000000</td>\n",
              "      <td>0.492000</td>\n",
              "      <td>0.548000</td>\n",
              "      <td>0.481000</td>\n",
              "      <td>0.000204</td>\n",
              "      <td>0.135000</td>\n",
              "      <td>-10.474000</td>\n",
              "      <td>0.045000</td>\n",
              "      <td>114.778000</td>\n",
              "      <td>0.544000</td>\n",
              "      <td>1.000000</td>\n",
              "      <td>5.000000</td>\n",
              "      <td>33.000000</td>\n",
              "      <td>0.000000</td>\n",
              "    </tr>\n",
              "    <tr>\n",
              "      <th>75%</th>\n",
              "      <td>2.629600e+05</td>\n",
              "      <td>1999.000000</td>\n",
              "      <td>0.888000</td>\n",
              "      <td>0.667000</td>\n",
              "      <td>0.710000</td>\n",
              "      <td>0.086800</td>\n",
              "      <td>0.263000</td>\n",
              "      <td>-7.118000</td>\n",
              "      <td>0.075400</td>\n",
              "      <td>135.712000</td>\n",
              "      <td>0.749000</td>\n",
              "      <td>1.000000</td>\n",
              "      <td>8.000000</td>\n",
              "      <td>48.000000</td>\n",
              "      <td>0.000000</td>\n",
              "    </tr>\n",
              "    <tr>\n",
              "      <th>max</th>\n",
              "      <td>5.403500e+06</td>\n",
              "      <td>2020.000000</td>\n",
              "      <td>0.996000</td>\n",
              "      <td>0.988000</td>\n",
              "      <td>1.000000</td>\n",
              "      <td>1.000000</td>\n",
              "      <td>1.000000</td>\n",
              "      <td>3.855000</td>\n",
              "      <td>0.969000</td>\n",
              "      <td>244.091000</td>\n",
              "      <td>1.000000</td>\n",
              "      <td>1.000000</td>\n",
              "      <td>11.000000</td>\n",
              "      <td>100.000000</td>\n",
              "      <td>1.000000</td>\n",
              "    </tr>\n",
              "  </tbody>\n",
              "</table>\n",
              "</div>\n",
              "    <div class=\"colab-df-buttons\">\n",
              "\n",
              "  <div class=\"colab-df-container\">\n",
              "    <button class=\"colab-df-convert\" onclick=\"convertToInteractive('df-8a0ca7a4-8c85-4eab-866a-5ce59a133949')\"\n",
              "            title=\"Convert this dataframe to an interactive table.\"\n",
              "            style=\"display:none;\">\n",
              "\n",
              "  <svg xmlns=\"http://www.w3.org/2000/svg\" height=\"24px\" viewBox=\"0 -960 960 960\">\n",
              "    <path d=\"M120-120v-720h720v720H120Zm60-500h600v-160H180v160Zm220 220h160v-160H400v160Zm0 220h160v-160H400v160ZM180-400h160v-160H180v160Zm440 0h160v-160H620v160ZM180-180h160v-160H180v160Zm440 0h160v-160H620v160Z\"/>\n",
              "  </svg>\n",
              "    </button>\n",
              "\n",
              "  <style>\n",
              "    .colab-df-container {\n",
              "      display:flex;\n",
              "      gap: 12px;\n",
              "    }\n",
              "\n",
              "    .colab-df-convert {\n",
              "      background-color: #E8F0FE;\n",
              "      border: none;\n",
              "      border-radius: 50%;\n",
              "      cursor: pointer;\n",
              "      display: none;\n",
              "      fill: #1967D2;\n",
              "      height: 32px;\n",
              "      padding: 0 0 0 0;\n",
              "      width: 32px;\n",
              "    }\n",
              "\n",
              "    .colab-df-convert:hover {\n",
              "      background-color: #E2EBFA;\n",
              "      box-shadow: 0px 1px 2px rgba(60, 64, 67, 0.3), 0px 1px 3px 1px rgba(60, 64, 67, 0.15);\n",
              "      fill: #174EA6;\n",
              "    }\n",
              "\n",
              "    .colab-df-buttons div {\n",
              "      margin-bottom: 4px;\n",
              "    }\n",
              "\n",
              "    [theme=dark] .colab-df-convert {\n",
              "      background-color: #3B4455;\n",
              "      fill: #D2E3FC;\n",
              "    }\n",
              "\n",
              "    [theme=dark] .colab-df-convert:hover {\n",
              "      background-color: #434B5C;\n",
              "      box-shadow: 0px 1px 3px 1px rgba(0, 0, 0, 0.15);\n",
              "      filter: drop-shadow(0px 1px 2px rgba(0, 0, 0, 0.3));\n",
              "      fill: #FFFFFF;\n",
              "    }\n",
              "  </style>\n",
              "\n",
              "    <script>\n",
              "      const buttonEl =\n",
              "        document.querySelector('#df-8a0ca7a4-8c85-4eab-866a-5ce59a133949 button.colab-df-convert');\n",
              "      buttonEl.style.display =\n",
              "        google.colab.kernel.accessAllowed ? 'block' : 'none';\n",
              "\n",
              "      async function convertToInteractive(key) {\n",
              "        const element = document.querySelector('#df-8a0ca7a4-8c85-4eab-866a-5ce59a133949');\n",
              "        const dataTable =\n",
              "          await google.colab.kernel.invokeFunction('convertToInteractive',\n",
              "                                                    [key], {});\n",
              "        if (!dataTable) return;\n",
              "\n",
              "        const docLinkHtml = 'Like what you see? Visit the ' +\n",
              "          '<a target=\"_blank\" href=https://colab.research.google.com/notebooks/data_table.ipynb>data table notebook</a>'\n",
              "          + ' to learn more about interactive tables.';\n",
              "        element.innerHTML = '';\n",
              "        dataTable['output_type'] = 'display_data';\n",
              "        await google.colab.output.renderOutput(dataTable, element);\n",
              "        const docLink = document.createElement('div');\n",
              "        docLink.innerHTML = docLinkHtml;\n",
              "        element.appendChild(docLink);\n",
              "      }\n",
              "    </script>\n",
              "  </div>\n",
              "\n",
              "\n",
              "    <div id=\"df-c8c28864-089e-46a4-86f6-0f6a3d0e2744\">\n",
              "      <button class=\"colab-df-quickchart\" onclick=\"quickchart('df-c8c28864-089e-46a4-86f6-0f6a3d0e2744')\"\n",
              "                title=\"Suggest charts\"\n",
              "                style=\"display:none;\">\n",
              "\n",
              "<svg xmlns=\"http://www.w3.org/2000/svg\" height=\"24px\"viewBox=\"0 0 24 24\"\n",
              "     width=\"24px\">\n",
              "    <g>\n",
              "        <path d=\"M19 3H5c-1.1 0-2 .9-2 2v14c0 1.1.9 2 2 2h14c1.1 0 2-.9 2-2V5c0-1.1-.9-2-2-2zM9 17H7v-7h2v7zm4 0h-2V7h2v10zm4 0h-2v-4h2v4z\"/>\n",
              "    </g>\n",
              "</svg>\n",
              "      </button>\n",
              "\n",
              "<style>\n",
              "  .colab-df-quickchart {\n",
              "      --bg-color: #E8F0FE;\n",
              "      --fill-color: #1967D2;\n",
              "      --hover-bg-color: #E2EBFA;\n",
              "      --hover-fill-color: #174EA6;\n",
              "      --disabled-fill-color: #AAA;\n",
              "      --disabled-bg-color: #DDD;\n",
              "  }\n",
              "\n",
              "  [theme=dark] .colab-df-quickchart {\n",
              "      --bg-color: #3B4455;\n",
              "      --fill-color: #D2E3FC;\n",
              "      --hover-bg-color: #434B5C;\n",
              "      --hover-fill-color: #FFFFFF;\n",
              "      --disabled-bg-color: #3B4455;\n",
              "      --disabled-fill-color: #666;\n",
              "  }\n",
              "\n",
              "  .colab-df-quickchart {\n",
              "    background-color: var(--bg-color);\n",
              "    border: none;\n",
              "    border-radius: 50%;\n",
              "    cursor: pointer;\n",
              "    display: none;\n",
              "    fill: var(--fill-color);\n",
              "    height: 32px;\n",
              "    padding: 0;\n",
              "    width: 32px;\n",
              "  }\n",
              "\n",
              "  .colab-df-quickchart:hover {\n",
              "    background-color: var(--hover-bg-color);\n",
              "    box-shadow: 0 1px 2px rgba(60, 64, 67, 0.3), 0 1px 3px 1px rgba(60, 64, 67, 0.15);\n",
              "    fill: var(--button-hover-fill-color);\n",
              "  }\n",
              "\n",
              "  .colab-df-quickchart-complete:disabled,\n",
              "  .colab-df-quickchart-complete:disabled:hover {\n",
              "    background-color: var(--disabled-bg-color);\n",
              "    fill: var(--disabled-fill-color);\n",
              "    box-shadow: none;\n",
              "  }\n",
              "\n",
              "  .colab-df-spinner {\n",
              "    border: 2px solid var(--fill-color);\n",
              "    border-color: transparent;\n",
              "    border-bottom-color: var(--fill-color);\n",
              "    animation:\n",
              "      spin 1s steps(1) infinite;\n",
              "  }\n",
              "\n",
              "  @keyframes spin {\n",
              "    0% {\n",
              "      border-color: transparent;\n",
              "      border-bottom-color: var(--fill-color);\n",
              "      border-left-color: var(--fill-color);\n",
              "    }\n",
              "    20% {\n",
              "      border-color: transparent;\n",
              "      border-left-color: var(--fill-color);\n",
              "      border-top-color: var(--fill-color);\n",
              "    }\n",
              "    30% {\n",
              "      border-color: transparent;\n",
              "      border-left-color: var(--fill-color);\n",
              "      border-top-color: var(--fill-color);\n",
              "      border-right-color: var(--fill-color);\n",
              "    }\n",
              "    40% {\n",
              "      border-color: transparent;\n",
              "      border-right-color: var(--fill-color);\n",
              "      border-top-color: var(--fill-color);\n",
              "    }\n",
              "    60% {\n",
              "      border-color: transparent;\n",
              "      border-right-color: var(--fill-color);\n",
              "    }\n",
              "    80% {\n",
              "      border-color: transparent;\n",
              "      border-right-color: var(--fill-color);\n",
              "      border-bottom-color: var(--fill-color);\n",
              "    }\n",
              "    90% {\n",
              "      border-color: transparent;\n",
              "      border-bottom-color: var(--fill-color);\n",
              "    }\n",
              "  }\n",
              "</style>\n",
              "\n",
              "      <script>\n",
              "        async function quickchart(key) {\n",
              "          const quickchartButtonEl =\n",
              "            document.querySelector('#' + key + ' button');\n",
              "          quickchartButtonEl.disabled = true;  // To prevent multiple clicks.\n",
              "          quickchartButtonEl.classList.add('colab-df-spinner');\n",
              "          try {\n",
              "            const charts = await google.colab.kernel.invokeFunction(\n",
              "                'suggestCharts', [key], {});\n",
              "          } catch (error) {\n",
              "            console.error('Error during call to suggestCharts:', error);\n",
              "          }\n",
              "          quickchartButtonEl.classList.remove('colab-df-spinner');\n",
              "          quickchartButtonEl.classList.add('colab-df-quickchart-complete');\n",
              "        }\n",
              "        (() => {\n",
              "          let quickchartButtonEl =\n",
              "            document.querySelector('#df-c8c28864-089e-46a4-86f6-0f6a3d0e2744 button');\n",
              "          quickchartButtonEl.style.display =\n",
              "            google.colab.kernel.accessAllowed ? 'block' : 'none';\n",
              "        })();\n",
              "      </script>\n",
              "    </div>\n",
              "\n",
              "    </div>\n",
              "  </div>\n"
            ],
            "application/vnd.google.colaboratory.intrinsic+json": {
              "type": "dataframe",
              "summary": "{\n  \"name\": \"spotify_df\",\n  \"rows\": 8,\n  \"fields\": [\n    {\n      \"column\": \"duration_ms\",\n      \"properties\": {\n        \"dtype\": \"number\",\n        \"std\": 1852988.3947298964,\n        \"min\": 5108.0,\n        \"max\": 5403500.0,\n        \"num_unique_values\": 8,\n        \"samples\": [\n          231406.1589733328,\n          208600.0,\n          169909.0\n        ],\n        \"semantic_type\": \"\",\n        \"description\": \"\"\n      }\n    },\n    {\n      \"column\": \"year\",\n      \"properties\": {\n        \"dtype\": \"number\",\n        \"std\": 59475.90327862795,\n        \"min\": 25.593167631761165,\n        \"max\": 169909.0,\n        \"num_unique_values\": 8,\n        \"samples\": [\n          1977.2232312590857,\n          1978.0,\n          169909.0\n        ],\n        \"semantic_type\": \"\",\n        \"description\": \"\"\n      }\n    },\n    {\n      \"column\": \"acousticness\",\n      \"properties\": {\n        \"dtype\": \"number\",\n        \"std\": 60071.73433059078,\n        \"min\": 0.0,\n        \"max\": 169909.0,\n        \"num_unique_values\": 8,\n        \"samples\": [\n          0.4932139761498802,\n          0.492,\n          169909.0\n        ],\n        \"semantic_type\": \"\",\n        \"description\": \"\"\n      }\n    },\n    {\n      \"column\": \"danceability\",\n      \"properties\": {\n        \"dtype\": \"number\",\n        \"std\": 60071.73467611138,\n        \"min\": 0.0,\n        \"max\": 169909.0,\n        \"num_unique_values\": 8,\n        \"samples\": [\n          0.5381497172015609,\n          0.548,\n          169909.0\n        ],\n        \"semantic_type\": \"\",\n        \"description\": \"\"\n      }\n    },\n    {\n      \"column\": \"energy\",\n      \"properties\": {\n        \"dtype\": \"number\",\n        \"std\": 60071.740914448965,\n        \"min\": 0.0,\n        \"max\": 169909.0,\n        \"num_unique_values\": 8,\n        \"samples\": [\n          0.48859313036036933,\n          0.481,\n          169909.0\n        ],\n        \"semantic_type\": \"\",\n        \"description\": \"\"\n      }\n    },\n    {\n      \"column\": \"instrumentalness\",\n      \"properties\": {\n        \"dtype\": \"number\",\n        \"std\": 60071.824338721504,\n        \"min\": 0.0,\n        \"max\": 169909.0,\n        \"num_unique_values\": 7,\n        \"samples\": [\n          169909.0,\n          0.16193714313891552,\n          0.0868\n        ],\n        \"semantic_type\": \"\",\n        \"description\": \"\"\n      }\n    },\n    {\n      \"column\": \"liveness\",\n      \"properties\": {\n        \"dtype\": \"number\",\n        \"std\": 60071.80809448097,\n        \"min\": 0.0,\n        \"max\": 169909.0,\n        \"num_unique_values\": 8,\n        \"samples\": [\n          0.20669034936348285,\n          0.135,\n          169909.0\n        ],\n        \"semantic_type\": \"\",\n        \"description\": \"\"\n      }\n    },\n    {\n      \"column\": \"loudness\",\n      \"properties\": {\n        \"dtype\": \"number\",\n        \"std\": 60076.649671564264,\n        \"min\": -60.0,\n        \"max\": 169909.0,\n        \"num_unique_values\": 8,\n        \"samples\": [\n          -11.37028930192044,\n          -10.474,\n          169909.0\n        ],\n        \"semantic_type\": \"\",\n        \"description\": \"\"\n      }\n    },\n    {\n      \"column\": \"speechiness\",\n      \"properties\": {\n        \"dtype\": \"number\",\n        \"std\": 60071.83393382521,\n        \"min\": 0.0,\n        \"max\": 169909.0,\n        \"num_unique_values\": 8,\n        \"samples\": [\n          0.09405769441289161,\n          0.045,\n          169909.0\n        ],\n        \"semantic_type\": \"\",\n        \"description\": \"\"\n      }\n    },\n    {\n      \"column\": \"tempo\",\n      \"properties\": {\n        \"dtype\": \"number\",\n        \"std\": 60034.78520821175,\n        \"min\": 0.0,\n        \"max\": 169909.0,\n        \"num_unique_values\": 8,\n        \"samples\": [\n          116.94801737400608,\n          114.778,\n          169909.0\n        ],\n        \"semantic_type\": \"\",\n        \"description\": \"\"\n      }\n    },\n    {\n      \"column\": \"valence\",\n      \"properties\": {\n        \"dtype\": \"number\",\n        \"std\": 60071.73083719263,\n        \"min\": 0.0,\n        \"max\": 169909.0,\n        \"num_unique_values\": 8,\n        \"samples\": [\n          0.5320951423473742,\n          0.544,\n          169909.0\n        ],\n        \"semantic_type\": \"\",\n        \"description\": \"\"\n      }\n    },\n    {\n      \"column\": \"mode\",\n      \"properties\": {\n        \"dtype\": \"number\",\n        \"std\": 60071.692781296406,\n        \"min\": 0.0,\n        \"max\": 169909.0,\n        \"num_unique_values\": 5,\n        \"samples\": [\n          0.7085557563166165,\n          1.0,\n          0.4544289954405306\n        ],\n        \"semantic_type\": \"\",\n        \"description\": \"\"\n      }\n    },\n    {\n      \"column\": \"key\",\n      \"properties\": {\n        \"dtype\": \"number\",\n        \"std\": 60070.14972743765,\n        \"min\": 0.0,\n        \"max\": 169909.0,\n        \"num_unique_values\": 8,\n        \"samples\": [\n          5.200519101401339,\n          5.0,\n          169909.0\n        ],\n        \"semantic_type\": \"\",\n        \"description\": \"\"\n      }\n    },\n    {\n      \"column\": \"popularity\",\n      \"properties\": {\n        \"dtype\": \"number\",\n        \"std\": 60059.4786787074,\n        \"min\": 0.0,\n        \"max\": 169909.0,\n        \"num_unique_values\": 8,\n        \"samples\": [\n          31.55660971461194,\n          33.0,\n          169909.0\n        ],\n        \"semantic_type\": \"\",\n        \"description\": \"\"\n      }\n    },\n    {\n      \"column\": \"explicit\",\n      \"properties\": {\n        \"dtype\": \"number\",\n        \"std\": 60071.834174029624,\n        \"min\": 0.0,\n        \"max\": 169909.0,\n        \"num_unique_values\": 5,\n        \"samples\": [\n          0.08486307376301432,\n          1.0,\n          0.2786786492592543\n        ],\n        \"semantic_type\": \"\",\n        \"description\": \"\"\n      }\n    }\n  ]\n}"
            }
          },
          "metadata": {},
          "execution_count": 36
        }
      ]
    },
    {
      "cell_type": "markdown",
      "source": [
        "#Verify the data needed for my research question is present\n",
        "Inspect the columns to confirm if release_date, valence, and energy are present.\n",
        "\n"
      ],
      "metadata": {
        "id": "XJ0eYjSDmhWb"
      }
    },
    {
      "cell_type": "markdown",
      "source": [
        "## Verify Dataset Columns\n",
        "To confirm this dataset supports the research question, we must ensure that it includes a release date and emotion-related metrics like valence and energy.\n"
      ],
      "metadata": {
        "id": "XAZtJ7FvnHgE"
      }
    },
    {
      "cell_type": "code",
      "source": [
        "# Check the column names\n",
        "spotify_df.columns"
      ],
      "metadata": {
        "colab": {
          "base_uri": "https://localhost:8080/"
        },
        "id": "r0UNOXATnNH-",
        "outputId": "ba45a16d-bfbf-46e3-8a52-128e896d01f6"
      },
      "execution_count": 37,
      "outputs": [
        {
          "output_type": "execute_result",
          "data": {
            "text/plain": [
              "Index(['id', 'name', 'artists', 'duration_ms', 'release_date', 'year',\n",
              "       'acousticness', 'danceability', 'energy', 'instrumentalness',\n",
              "       'liveness', 'loudness', 'speechiness', 'tempo', 'valence', 'mode',\n",
              "       'key', 'popularity', 'explicit'],\n",
              "      dtype='object')"
            ]
          },
          "metadata": {},
          "execution_count": 37
        }
      ]
    },
    {
      "cell_type": "markdown",
      "source": [
        "## Define Periods for Comparison\n",
        "To evaluate emotional tone before and after the murder of George Floyd (May 25, 2020), we will split the dataset into two time periods.\n"
      ],
      "metadata": {
        "id": "gZybxQkqnV70"
      }
    },
    {
      "cell_type": "code",
      "source": [
        "# Ensure release_date is in datetime format\n",
        "spotify_df['release_date'] = pd.to_datetime(spotify_df['release_date'], errors='coerce')\n",
        "\n",
        "# Filter for year 2020 only\n",
        "spotify_2020 = spotify_df[spotify_df['release_date'].dt.year == 2020].copy()\n",
        "\n",
        "# Create period labels based on the cutoff date\n",
        "cutoff = pd.to_datetime(\"2020-05-25\")\n",
        "spotify_2020['period'] = spotify_2020['release_date'].apply(\n",
        "    lambda x: 'Before' if x < cutoff else 'After'\n",
        ")\n",
        "\n",
        "# Show the distribution by period\n",
        "spotify_2020['period'].value_counts()\n"
      ],
      "metadata": {
        "colab": {
          "base_uri": "https://localhost:8080/",
          "height": 115
        },
        "id": "igpJgJCBnbi6",
        "outputId": "7773e0d6-6451-46f7-936f-235854cf23a3"
      },
      "execution_count": 38,
      "outputs": [
        {
          "output_type": "execute_result",
          "data": {
            "text/plain": [
              "Series([], Name: count, dtype: int64)"
            ],
            "text/html": [
              "<div>\n",
              "<style scoped>\n",
              "    .dataframe tbody tr th:only-of-type {\n",
              "        vertical-align: middle;\n",
              "    }\n",
              "\n",
              "    .dataframe tbody tr th {\n",
              "        vertical-align: top;\n",
              "    }\n",
              "\n",
              "    .dataframe thead th {\n",
              "        text-align: right;\n",
              "    }\n",
              "</style>\n",
              "<table border=\"1\" class=\"dataframe\">\n",
              "  <thead>\n",
              "    <tr style=\"text-align: right;\">\n",
              "      <th></th>\n",
              "      <th>count</th>\n",
              "    </tr>\n",
              "    <tr>\n",
              "      <th>period</th>\n",
              "      <th></th>\n",
              "    </tr>\n",
              "  </thead>\n",
              "  <tbody>\n",
              "  </tbody>\n",
              "</table>\n",
              "</div><br><label><b>dtype:</b> int64</label>"
            ]
          },
          "metadata": {},
          "execution_count": 38
        }
      ]
    },
    {
      "cell_type": "markdown",
      "source": [
        "## Data Types & Type Conversion\n",
        "\n",
        "We examined the dataframe’s types and determined that `release_date` should be a datetime format for time‑based analysis.\n",
        "\n",
        "```python\n",
        "spotify_df['release_date'] = pd.to_datetime(spotify_df['release_date'], errors='coerce')\n"
      ],
      "metadata": {
        "id": "Z_gV2qJl-oFd"
      }
    },
    {
      "cell_type": "markdown",
      "source": [
        "## Emotional Tone by Period\n",
        "This boxplot visualizes whether valence—the positivity of songs—changed significantly after May 25, 2020.\n"
      ],
      "metadata": {
        "id": "WCIldS2ennuL"
      }
    },
    {
      "cell_type": "code",
      "source": [
        "import matplotlib.pyplot as plt\n",
        "import seaborn as sns\n",
        "\n",
        "# Set visual style\n",
        "sns.set(style=\"whitegrid\")\n",
        "\n",
        "# Create boxplot for valence\n",
        "plt.figure(figsize=(8, 6))\n",
        "sns.boxplot(x='period', y='valence', data=spotify_2020, palette=\"coolwarm\")\n",
        "plt.title('Valence of Songs Before vs After May 25, 2020')\n",
        "plt.xlabel('Period')\n",
        "plt.ylabel('Valence')\n",
        "plt.tight_layout()\n",
        "plt.show()\n"
      ],
      "metadata": {
        "colab": {
          "base_uri": "https://localhost:8080/",
          "height": 497
        },
        "id": "MTcysP1pn0mW",
        "outputId": "08415c1d-0a7f-4cc5-e10e-bef646d0658c"
      },
      "execution_count": 39,
      "outputs": [
        {
          "output_type": "display_data",
          "data": {
            "text/plain": [
              "<Figure size 800x600 with 1 Axes>"
            ],
            "image/png": "[encoded data removed]"
          },
          "metadata": {}
        }
      ]
    },
    {
      "cell_type": "markdown",
      "source": [],
      "metadata": {
        "id": "5WuTyAQ8mzI_"
      }
    },
    {
      "cell_type": "code",
      "source": [
        "import matplotlib.pyplot as plt\n",
        "import seaborn as sns\n",
        "\n",
        "# Drop rows with missing valence values\n",
        "filtered_df = spotify_2020.dropna(subset=['valence'])\n",
        "\n",
        "# Create the boxplot\n",
        "plt.figure(figsize=(8, 6))\n",
        "sns.boxplot(x='period', y='valence', data=filtered_df)\n",
        "plt.title('Valence of Songs Before and After May 25, 2020')\n",
        "plt.xlabel('Period')\n",
        "plt.ylabel('Valence')\n",
        "plt.tight_layout()\n",
        "plt.show()\n"
      ],
      "metadata": {
        "colab": {
          "base_uri": "https://localhost:8080/",
          "height": 497
        },
        "id": "Bq5s6nNgoxLN",
        "outputId": "275da183-e710-47f8-9977-ad5ec7bbf178"
      },
      "execution_count": 40,
      "outputs": [
        {
          "output_type": "display_data",
          "data": {
            "text/plain": [
              "<Figure size 800x600 with 1 Axes>"
            ],
            "image/png": "[encoded data removed]"
          },
          "metadata": {}
        }
      ]
    },
    {
      "cell_type": "code",
      "source": [
        "print(spotify_2020.shape)"
      ],
      "metadata": {
        "colab": {
          "base_uri": "https://localhost:8080/"
        },
        "id": "I2eVPWKGpIzc",
        "outputId": "652e4703-efe1-4586-afbf-aba38a43c68d"
      },
      "execution_count": 41,
      "outputs": [
        {
          "output_type": "stream",
          "name": "stdout",
          "text": [
            "(0, 20)\n"
          ]
        }
      ]
    },
    {
      "cell_type": "code",
      "source": [
        "print(\"Dataset shape:\", spotify_2020.shape)"
      ],
      "metadata": {
        "colab": {
          "base_uri": "https://localhost:8080/"
        },
        "id": "HLdqIil6pxM3",
        "outputId": "dd00f08e-124d-4afc-8e7e-1c606237468e"
      },
      "execution_count": 42,
      "outputs": [
        {
          "output_type": "stream",
          "name": "stdout",
          "text": [
            "Dataset shape: (0, 20)\n"
          ]
        }
      ]
    },
    {
      "cell_type": "markdown",
      "source": [
        "#Checking to see what the data contains"
      ],
      "metadata": {
        "id": "Mi89Sb6dqu6x"
      }
    },
    {
      "cell_type": "code",
      "source": [
        "print(\"Total rows:\", spotify_df.shape[0])\n",
        "print(\"Missing release_date values:\", spotify_df['release_date'].isna().sum())\n",
        "print(\"Earliest release_date:\", spotify_df['release_date'].min())\n",
        "print(\"Latest release_date:\", spotify_df['release_date'].max())\n"
      ],
      "metadata": {
        "colab": {
          "base_uri": "https://localhost:8080/"
        },
        "id": "jEhzVVNHqqnW",
        "outputId": "f8b34085-b858-4156-b77b-9494d8bfe5d0"
      },
      "execution_count": 43,
      "outputs": [
        {
          "output_type": "stream",
          "name": "stdout",
          "text": [
            "Total rows: 169909\n",
            "Missing release_date values: 119527\n",
            "Earliest release_date: 1921-01-01 00:00:00\n",
            "Latest release_date: 2017-01-01 00:00:00\n"
          ]
        }
      ]
    },
    {
      "cell_type": "markdown",
      "source": [
        "When we filtered with:\n",
        "\n",
        "python\n",
        "<spotify_df['release_date'].dt.year == 2020>\n",
        "there were zero matches, because the  dataset only includes songs up to 2017.\n",
        "\n",
        "Since:\n",
        "\n",
        "spotify_2020 was empty,\n",
        "\n",
        "The boxplot had nothing to draw.\n",
        "\n"
      ],
      "metadata": {
        "id": "sd87W80_rzW_"
      }
    },
    {
      "cell_type": "markdown",
      "source": [
        "## Alternative Research Question\n"
      ],
      "metadata": {
        "id": "GN33GquQubhM"
      }
    },
    {
      "cell_type": "markdown",
      "source": [
        "## Alternative Research Question\n",
        "\n",
        "**Revised Research Question:**  \n",
        "How did the emotional tone of popular songs—measured by valence and energy—change over time between 1921 and 2017?\n",
        "\n",
        "## Updated Problem Statement\n",
        "\n",
        "While the initial research objective was to investigate shifts in song mood surrounding the murder of George Floyd in 2020, the dataset does not include any music released after 2017. Therefore, that specific question is not feasible. However, the dataset spans nearly a century of music and includes rich information on emotional attributes like valence and energy.\n",
        "\n",
        "This revised analysis investigates how the emotional tone of popular songs evolved between 1921 and 2017. By examining trends in average valence and energy over time, we aim to uncover whether certain periods reflect broader cultural or social changes in the emotional expression of popular music.\n",
        "\n",
        "## Hypothesis\n",
        "\n",
        "The emotional tone of songs, as reflected in valence and energy, has shifted over time, potentially exhibiting lower values during major historical disruptions and higher values during periods of cultural optimism.\n",
        "\n"
      ],
      "metadata": {
        "id": "BfVZ0Z88uduQ"
      }
    },
    {
      "cell_type": "markdown",
      "source": [
        "Data cleaning & Preparation"
      ],
      "metadata": {
        "id": "Qka-YIkgv5kV"
      }
    },
    {
      "cell_type": "code",
      "source": [
        "# Ensure release_date is datetime\n",
        "spotify_df['release_date'] = pd.to_datetime(spotify_df['release_date'], errors='coerce')\n",
        "\n",
        "# Drop rows with missing valence, energy, or release_date\n",
        "spotify_clean = spotify_df.dropna(subset=['valence', 'energy', 'release_date'])\n",
        "\n",
        "# Extract year from release_date\n",
        "spotify_clean['year'] = spotify_clean['release_date'].dt.year\n",
        "\n",
        "# Filter for relevant range\n",
        "spotify_clean = spotify_clean[(spotify_clean['year'] >= 1921) & (spotify_clean['year'] <= 2017)]\n",
        "\n",
        "# Verify result\n",
        "spotify_clean[['year', 'valence', 'energy']].describe()\n"
      ],
      "metadata": {
        "colab": {
          "base_uri": "https://localhost:8080/",
          "height": 429
        },
        "id": "s7LcA8OssBil",
        "outputId": "aa039d77-93b5-4e79-aa14-d2f642de52ef"
      },
      "execution_count": 44,
      "outputs": [
        {
          "output_type": "stream",
          "name": "stderr",
          "text": [
            "/tmp/ipython-input-44-3451363797.py:8: SettingWithCopyWarning: \n",
            "A value is trying to be set on a copy of a slice from a DataFrame.\n",
            "Try using .loc[row_indexer,col_indexer] = value instead\n",
            "\n",
            "See the caveats in the documentation: https://pandas.pydata.org/pandas-docs/stable/user_guide/indexing.html#returning-a-view-versus-a-copy\n",
            "  spotify_clean['year'] = spotify_clean['release_date'].dt.year\n"
          ]
        },
        {
          "output_type": "execute_result",
          "data": {
            "text/plain": [
              "               year       valence        energy\n",
              "count  50382.000000  50382.000000  50382.000000\n",
              "mean    1963.731988      0.502841      0.398221\n",
              "std       21.570827      0.271409      0.264259\n",
              "min     1921.000000      0.000000      0.000000\n",
              "25%     1948.000000      0.272000      0.181000\n",
              "50%     1962.000000      0.515000      0.339000\n",
              "75%     1980.000000      0.726000      0.591000\n",
              "max     2017.000000      1.000000      1.000000"
            ],
            "text/html": [
              "\n",
              "  <div id=\"df-3f7a506a-cba1-45fc-b21f-212baa6810dd\" class=\"colab-df-container\">\n",
              "    <div>\n",
              "<style scoped>\n",
              "    .dataframe tbody tr th:only-of-type {\n",
              "        vertical-align: middle;\n",
              "    }\n",
              "\n",
              "    .dataframe tbody tr th {\n",
              "        vertical-align: top;\n",
              "    }\n",
              "\n",
              "    .dataframe thead th {\n",
              "        text-align: right;\n",
              "    }\n",
              "</style>\n",
              "<table border=\"1\" class=\"dataframe\">\n",
              "  <thead>\n",
              "    <tr style=\"text-align: right;\">\n",
              "      <th></th>\n",
              "      <th>year</th>\n",
              "      <th>valence</th>\n",
              "      <th>energy</th>\n",
              "    </tr>\n",
              "  </thead>\n",
              "  <tbody>\n",
              "    <tr>\n",
              "      <th>count</th>\n",
              "      <td>50382.000000</td>\n",
              "      <td>50382.000000</td>\n",
              "      <td>50382.000000</td>\n",
              "    </tr>\n",
              "    <tr>\n",
              "      <th>mean</th>\n",
              "      <td>1963.731988</td>\n",
              "      <td>0.502841</td>\n",
              "      <td>0.398221</td>\n",
              "    </tr>\n",
              "    <tr>\n",
              "      <th>std</th>\n",
              "      <td>21.570827</td>\n",
              "      <td>0.271409</td>\n",
              "      <td>0.264259</td>\n",
              "    </tr>\n",
              "    <tr>\n",
              "      <th>min</th>\n",
              "      <td>1921.000000</td>\n",
              "      <td>0.000000</td>\n",
              "      <td>0.000000</td>\n",
              "    </tr>\n",
              "    <tr>\n",
              "      <th>25%</th>\n",
              "      <td>1948.000000</td>\n",
              "      <td>0.272000</td>\n",
              "      <td>0.181000</td>\n",
              "    </tr>\n",
              "    <tr>\n",
              "      <th>50%</th>\n",
              "      <td>1962.000000</td>\n",
              "      <td>0.515000</td>\n",
              "      <td>0.339000</td>\n",
              "    </tr>\n",
              "    <tr>\n",
              "      <th>75%</th>\n",
              "      <td>1980.000000</td>\n",
              "      <td>0.726000</td>\n",
              "      <td>0.591000</td>\n",
              "    </tr>\n",
              "    <tr>\n",
              "      <th>max</th>\n",
              "      <td>2017.000000</td>\n",
              "      <td>1.000000</td>\n",
              "      <td>1.000000</td>\n",
              "    </tr>\n",
              "  </tbody>\n",
              "</table>\n",
              "</div>\n",
              "    <div class=\"colab-df-buttons\">\n",
              "\n",
              "  <div class=\"colab-df-container\">\n",
              "    <button class=\"colab-df-convert\" onclick=\"convertToInteractive('df-3f7a506a-cba1-45fc-b21f-212baa6810dd')\"\n",
              "            title=\"Convert this dataframe to an interactive table.\"\n",
              "            style=\"display:none;\">\n",
              "\n",
              "  <svg xmlns=\"http://www.w3.org/2000/svg\" height=\"24px\" viewBox=\"0 -960 960 960\">\n",
              "    <path d=\"M120-120v-720h720v720H120Zm60-500h600v-160H180v160Zm220 220h160v-160H400v160Zm0 220h160v-160H400v160ZM180-400h160v-160H180v160Zm440 0h160v-160H620v160ZM180-180h160v-160H180v160Zm440 0h160v-160H620v160Z\"/>\n",
              "  </svg>\n",
              "    </button>\n",
              "\n",
              "  <style>\n",
              "    .colab-df-container {\n",
              "      display:flex;\n",
              "      gap: 12px;\n",
              "    }\n",
              "\n",
              "    .colab-df-convert {\n",
              "      background-color: #E8F0FE;\n",
              "      border: none;\n",
              "      border-radius: 50%;\n",
              "      cursor: pointer;\n",
              "      display: none;\n",
              "      fill: #1967D2;\n",
              "      height: 32px;\n",
              "      padding: 0 0 0 0;\n",
              "      width: 32px;\n",
              "    }\n",
              "\n",
              "    .colab-df-convert:hover {\n",
              "      background-color: #E2EBFA;\n",
              "      box-shadow: 0px 1px 2px rgba(60, 64, 67, 0.3), 0px 1px 3px 1px rgba(60, 64, 67, 0.15);\n",
              "      fill: #174EA6;\n",
              "    }\n",
              "\n",
              "    .colab-df-buttons div {\n",
              "      margin-bottom: 4px;\n",
              "    }\n",
              "\n",
              "    [theme=dark] .colab-df-convert {\n",
              "      background-color: #3B4455;\n",
              "      fill: #D2E3FC;\n",
              "    }\n",
              "\n",
              "    [theme=dark] .colab-df-convert:hover {\n",
              "      background-color: #434B5C;\n",
              "      box-shadow: 0px 1px 3px 1px rgba(0, 0, 0, 0.15);\n",
              "      filter: drop-shadow(0px 1px 2px rgba(0, 0, 0, 0.3));\n",
              "      fill: #FFFFFF;\n",
              "    }\n",
              "  </style>\n",
              "\n",
              "    <script>\n",
              "      const buttonEl =\n",
              "        document.querySelector('#df-3f7a506a-cba1-45fc-b21f-212baa6810dd button.colab-df-convert');\n",
              "      buttonEl.style.display =\n",
              "        google.colab.kernel.accessAllowed ? 'block' : 'none';\n",
              "\n",
              "      async function convertToInteractive(key) {\n",
              "        const element = document.querySelector('#df-3f7a506a-cba1-45fc-b21f-212baa6810dd');\n",
              "        const dataTable =\n",
              "          await google.colab.kernel.invokeFunction('convertToInteractive',\n",
              "                                                    [key], {});\n",
              "        if (!dataTable) return;\n",
              "\n",
              "        const docLinkHtml = 'Like what you see? Visit the ' +\n",
              "          '<a target=\"_blank\" href=https://colab.research.google.com/notebooks/data_table.ipynb>data table notebook</a>'\n",
              "          + ' to learn more about interactive tables.';\n",
              "        element.innerHTML = '';\n",
              "        dataTable['output_type'] = 'display_data';\n",
              "        await google.colab.output.renderOutput(dataTable, element);\n",
              "        const docLink = document.createElement('div');\n",
              "        docLink.innerHTML = docLinkHtml;\n",
              "        element.appendChild(docLink);\n",
              "      }\n",
              "    </script>\n",
              "  </div>\n",
              "\n",
              "\n",
              "    <div id=\"df-fd1870d3-080e-4f8c-837f-3ef0f3242e5a\">\n",
              "      <button class=\"colab-df-quickchart\" onclick=\"quickchart('df-fd1870d3-080e-4f8c-837f-3ef0f3242e5a')\"\n",
              "                title=\"Suggest charts\"\n",
              "                style=\"display:none;\">\n",
              "\n",
              "<svg xmlns=\"http://www.w3.org/2000/svg\" height=\"24px\"viewBox=\"0 0 24 24\"\n",
              "     width=\"24px\">\n",
              "    <g>\n",
              "        <path d=\"M19 3H5c-1.1 0-2 .9-2 2v14c0 1.1.9 2 2 2h14c1.1 0 2-.9 2-2V5c0-1.1-.9-2-2-2zM9 17H7v-7h2v7zm4 0h-2V7h2v10zm4 0h-2v-4h2v4z\"/>\n",
              "    </g>\n",
              "</svg>\n",
              "      </button>\n",
              "\n",
              "<style>\n",
              "  .colab-df-quickchart {\n",
              "      --bg-color: #E8F0FE;\n",
              "      --fill-color: #1967D2;\n",
              "      --hover-bg-color: #E2EBFA;\n",
              "      --hover-fill-color: #174EA6;\n",
              "      --disabled-fill-color: #AAA;\n",
              "      --disabled-bg-color: #DDD;\n",
              "  }\n",
              "\n",
              "  [theme=dark] .colab-df-quickchart {\n",
              "      --bg-color: #3B4455;\n",
              "      --fill-color: #D2E3FC;\n",
              "      --hover-bg-color: #434B5C;\n",
              "      --hover-fill-color: #FFFFFF;\n",
              "      --disabled-bg-color: #3B4455;\n",
              "      --disabled-fill-color: #666;\n",
              "  }\n",
              "\n",
              "  .colab-df-quickchart {\n",
              "    background-color: var(--bg-color);\n",
              "    border: none;\n",
              "    border-radius: 50%;\n",
              "    cursor: pointer;\n",
              "    display: none;\n",
              "    fill: var(--fill-color);\n",
              "    height: 32px;\n",
              "    padding: 0;\n",
              "    width: 32px;\n",
              "  }\n",
              "\n",
              "  .colab-df-quickchart:hover {\n",
              "    background-color: var(--hover-bg-color);\n",
              "    box-shadow: 0 1px 2px rgba(60, 64, 67, 0.3), 0 1px 3px 1px rgba(60, 64, 67, 0.15);\n",
              "    fill: var(--button-hover-fill-color);\n",
              "  }\n",
              "\n",
              "  .colab-df-quickchart-complete:disabled,\n",
              "  .colab-df-quickchart-complete:disabled:hover {\n",
              "    background-color: var(--disabled-bg-color);\n",
              "    fill: var(--disabled-fill-color);\n",
              "    box-shadow: none;\n",
              "  }\n",
              "\n",
              "  .colab-df-spinner {\n",
              "    border: 2px solid var(--fill-color);\n",
              "    border-color: transparent;\n",
              "    border-bottom-color: var(--fill-color);\n",
              "    animation:\n",
              "      spin 1s steps(1) infinite;\n",
              "  }\n",
              "\n",
              "  @keyframes spin {\n",
              "    0% {\n",
              "      border-color: transparent;\n",
              "      border-bottom-color: var(--fill-color);\n",
              "      border-left-color: var(--fill-color);\n",
              "    }\n",
              "    20% {\n",
              "      border-color: transparent;\n",
              "      border-left-color: var(--fill-color);\n",
              "      border-top-color: var(--fill-color);\n",
              "    }\n",
              "    30% {\n",
              "      border-color: transparent;\n",
              "      border-left-color: var(--fill-color);\n",
              "      border-top-color: var(--fill-color);\n",
              "      border-right-color: var(--fill-color);\n",
              "    }\n",
              "    40% {\n",
              "      border-color: transparent;\n",
              "      border-right-color: var(--fill-color);\n",
              "      border-top-color: var(--fill-color);\n",
              "    }\n",
              "    60% {\n",
              "      border-color: transparent;\n",
              "      border-right-color: var(--fill-color);\n",
              "    }\n",
              "    80% {\n",
              "      border-color: transparent;\n",
              "      border-right-color: var(--fill-color);\n",
              "      border-bottom-color: var(--fill-color);\n",
              "    }\n",
              "    90% {\n",
              "      border-color: transparent;\n",
              "      border-bottom-color: var(--fill-color);\n",
              "    }\n",
              "  }\n",
              "</style>\n",
              "\n",
              "      <script>\n",
              "        async function quickchart(key) {\n",
              "          const quickchartButtonEl =\n",
              "            document.querySelector('#' + key + ' button');\n",
              "          quickchartButtonEl.disabled = true;  // To prevent multiple clicks.\n",
              "          quickchartButtonEl.classList.add('colab-df-spinner');\n",
              "          try {\n",
              "            const charts = await google.colab.kernel.invokeFunction(\n",
              "                'suggestCharts', [key], {});\n",
              "          } catch (error) {\n",
              "            console.error('Error during call to suggestCharts:', error);\n",
              "          }\n",
              "          quickchartButtonEl.classList.remove('colab-df-spinner');\n",
              "          quickchartButtonEl.classList.add('colab-df-quickchart-complete');\n",
              "        }\n",
              "        (() => {\n",
              "          let quickchartButtonEl =\n",
              "            document.querySelector('#df-fd1870d3-080e-4f8c-837f-3ef0f3242e5a button');\n",
              "          quickchartButtonEl.style.display =\n",
              "            google.colab.kernel.accessAllowed ? 'block' : 'none';\n",
              "        })();\n",
              "      </script>\n",
              "    </div>\n",
              "\n",
              "    </div>\n",
              "  </div>\n"
            ],
            "application/vnd.google.colaboratory.intrinsic+json": {
              "type": "dataframe",
              "summary": "{\n  \"name\": \"spotify_clean[['year', 'valence', 'energy']]\",\n  \"rows\": 8,\n  \"fields\": [\n    {\n      \"column\": \"year\",\n      \"properties\": {\n        \"dtype\": \"number\",\n        \"std\": 17229.51682059083,\n        \"min\": 21.570826832322865,\n        \"max\": 50382.0,\n        \"num_unique_values\": 8,\n        \"samples\": [\n          1963.7319876146244,\n          1962.0,\n          50382.0\n        ],\n        \"semantic_type\": \"\",\n        \"description\": \"\"\n      }\n    },\n    {\n      \"column\": \"valence\",\n      \"properties\": {\n        \"dtype\": \"number\",\n        \"std\": 17812.56089630298,\n        \"min\": 0.0,\n        \"max\": 50382.0,\n        \"num_unique_values\": 8,\n        \"samples\": [\n          0.502840662538208,\n          0.515,\n          50382.0\n        ],\n        \"semantic_type\": \"\",\n        \"description\": \"\"\n      }\n    },\n    {\n      \"column\": \"energy\",\n      \"properties\": {\n        \"dtype\": \"number\",\n        \"std\": 17812.586845457325,\n        \"min\": 0.0,\n        \"max\": 50382.0,\n        \"num_unique_values\": 8,\n        \"samples\": [\n          0.39822122903020923,\n          0.339,\n          50382.0\n        ],\n        \"semantic_type\": \"\",\n        \"description\": \"\"\n      }\n    }\n  ]\n}"
            }
          },
          "metadata": {},
          "execution_count": 44
        }
      ]
    },
    {
      "cell_type": "markdown",
      "source": [
        "#Box Plot: Valence over Time"
      ],
      "metadata": {
        "id": "jRNGBlWJwCAY"
      }
    },
    {
      "cell_type": "code",
      "source": [
        "import matplotlib.pyplot as plt\n",
        "import seaborn as sns\n",
        "\n",
        "# Aggregate valence by year\n",
        "yearly_valence = spotify_clean.groupby('year')['valence'].mean().reset_index()\n",
        "\n",
        "# Plot\n",
        "plt.figure(figsize=(12, 6))\n",
        "sns.lineplot(x='year', y='valence', data=yearly_valence)\n",
        "plt.title('Average Valence of Songs (1921–2017)')\n",
        "plt.xlabel('Year')\n",
        "plt.ylabel('Average Valence')\n",
        "plt.grid(True)\n",
        "plt.tight_layout()\n",
        "plt.show()\n"
      ],
      "metadata": {
        "colab": {
          "base_uri": "https://localhost:8080/",
          "height": 336
        },
        "id": "NKti7pVHwJJp",
        "outputId": "7ea7b4e8-0d2f-456a-9d51-c6e7ba107a02"
      },
      "execution_count": 45,
      "outputs": [
        {
          "output_type": "display_data",
          "data": {
            "text/plain": [
              "<Figure size 1200x600 with 1 Axes>"
            ],
            "image/png": "[encoded data removed]"
          },
          "metadata": {}
        }
      ]
    },
    {
      "cell_type": "markdown",
      "source": [
        "## Interpretation of Visualization\n",
        "\n",
        "The line plot of average valence (musical positivity) from 1921 to 2017 reveals distinct historical patterns. There is a noticeable dip in emotional tone during the 1930s and 1940s, which aligns with the Great Depression and World War II era. From the mid-1950s through the 1980s, valence trends upward, possibly reflecting post-war recovery, economic growth, and cultural optimism.\n",
        "\n",
        "After 1990, valence appears to fluctuate with a slight overall decline, suggesting a gradual shift in popular musical mood. This may correspond to changing listener preferences, industry trends, or broader sociocultural developments.\n",
        "\n",
        "Further statistical analysis would be required to validate these observations, but this exploratory visualization suggests that historical context may influence the emotional tone of popular music over time.\n"
      ],
      "metadata": {
        "id": "fn6XfE-wwrgo"
      }
    },
    {
      "cell_type": "markdown",
      "source": [
        "Plot Average Energy Over Time"
      ],
      "metadata": {
        "id": "CabKrHgWxJMB"
      }
    },
    {
      "cell_type": "code",
      "source": [
        "# Aggregate energy by year\n",
        "yearly_energy = spotify_clean.groupby('year')['energy'].mean().reset_index()\n",
        "\n",
        "# Plot\n",
        "plt.figure(figsize=(12, 6))\n",
        "sns.lineplot(x='year', y='energy', data=yearly_energy)\n",
        "plt.title('Average Energy of Songs (1921–2017)')\n",
        "plt.xlabel('Year')\n",
        "plt.ylabel('Average Energy')\n",
        "plt.grid(True)\n",
        "plt.tight_layout()\n",
        "plt.show()\n"
      ],
      "metadata": {
        "colab": {
          "base_uri": "https://localhost:8080/",
          "height": 336
        },
        "id": "z_P4Cf8VxLx5",
        "outputId": "420b041f-274e-4716-d226-f57e7da2da4e"
      },
      "execution_count": 46,
      "outputs": [
        {
          "output_type": "display_data",
          "data": {
            "text/plain": [
              "<Figure size 1200x600 with 1 Axes>"
            ],
            "image/png": "[encoded data removed]"
          },
          "metadata": {}
        }
      ]
    },
    {
      "cell_type": "markdown",
      "source": [
        "## Preliminary Reflection on Trends\n",
        "\n",
        "The rising trend in song energy from the 1950s onward aligns with the emergence and dominance of electrified musical styles like rock, disco, electronic, and hip-hop. These genres tend to feature higher tempos, amplified instrumentation, and more rhythmic intensity—elements strongly correlated with Spotify's \"energy\" metric.\n",
        "\n",
        "The dip in energy during the 1930s–1940s may reflect both the recording technology of the era and the somber cultural mood during the Great Depression and World War II.\n",
        "\n",
        "While these interpretations remain speculative at this stage, they suggest a strong case for deeper domain research in the next phase of this project.\n"
      ],
      "metadata": {
        "id": "nBzpyn3sxo1x"
      }
    },
    {
      "cell_type": "markdown",
      "source": [
        "A more detailed exploration of historical musical trends will be conducted in Stage 3, using peer-reviewed musicology or sociocultural studies to validate the patterns observed here."
      ],
      "metadata": {
        "id": "9rsDqb2o14na"
      }
    },
    {
      "cell_type": "code",
      "source": [],
      "metadata": {
        "id": "rsfVlmsrxMac"
      },
      "execution_count": 46,
      "outputs": []
    }
  ]
}